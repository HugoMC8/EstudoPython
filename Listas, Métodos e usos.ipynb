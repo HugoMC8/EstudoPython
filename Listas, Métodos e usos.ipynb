{
 "cells": [
  {
   "cell_type": "raw",
   "id": "1ccb26a2",
   "metadata": {},
   "source": [
    "## Listas"
   ]
  },
  {
   "cell_type": "markdown",
   "id": "c08640de",
   "metadata": {},
   "source": [
    "produtos = [\"gasp13\",\"gasp45\",\"agua22\",\"agua23\", \"agua24\",\"agua25\"]"
   ]
  },
  {
   "cell_type": "code",
   "execution_count": 1,
   "id": "c4d6e6af",
   "metadata": {},
   "outputs": [
    {
     "name": "stdout",
     "output_type": "stream",
     "text": [
      "['gasp13', 'gasp45', 'agua22', 'agua23', 'agua24', 'agua25']\n"
     ]
    }
   ],
   "source": [
    "produtos = [\"gasp13\",\"gasp45\",\"agua22\",\"agua23\", \"agua24\",\"agua25\"] #lista homogeneas (apenas um tipo de variavel)\n",
    "# ou\n",
    "produtos = [\"gasp13\", # outra forma de listas em python\n",
    "            \"gasp45\",\n",
    "            \"agua22\",\n",
    "            \"agua23\",\n",
    "            \"agua24\",\n",
    "            \"agua25\",\n",
    "           ]\n",
    "print (produtos)"
   ]
  },
  {
   "cell_type": "raw",
   "id": "ffd5214f",
   "metadata": {},
   "source": [
    "produtos = [\"gasp13\",\"gasp45\",\"agua22\",\"agua23\", \"agua24\",\"agua25\"]\n",
    "lista[i]---> e o valor de indice i da lista\n",
    "lembrando que o indice sempre comeca em 0 no python\n",
    "\n",
    "e para substituir um valor de uma lista basta:\n",
    "lista[i] = novo_valor"
   ]
  },
  {
   "cell_type": "raw",
   "id": "3cd64d69",
   "metadata": {},
   "source": [
    "produtos = [\"gasp13\",\"gasp45\",\"agua22\",\"agua23\", \"agua24\",\"agua25\"]\n",
    "indice         0        1        2        3          4        5\n",
    "\n",
    "valor_venda = [120,500,5,5,5,5]\n",
    "indice          0 1 2 3  4  5"
   ]
  },
  {
   "cell_type": "code",
   "execution_count": 2,
   "id": "18ddd47f",
   "metadata": {},
   "outputs": [
    {
     "name": "stdout",
     "output_type": "stream",
     "text": [
      "[120, 500, 5, 5, 5, 5]\n",
      "[130, 500, 5, 5, 5, 5]\n"
     ]
    }
   ],
   "source": [
    "produtos = [\"gasp13\",\"gasp45\",\"agua22\",\"agua23\", \"agua24\",\"agua25\"]\n",
    "valor_venda = [120,500,5,5,5,5]\n",
    "print(valor_venda)\n",
    "\n",
    "#caso queira mudar o valor de venda do gas p13 para 130\n",
    "valor_venda[0] = 130 \n",
    "print (valor_venda)"
   ]
  },
  {
   "cell_type": "markdown",
   "id": "d7ce746d",
   "metadata": {},
   "source": [
    "Uma string se comporta como uma lista pro python, mas e uma lista imutavel."
   ]
  },
  {
   "cell_type": "code",
   "execution_count": 3,
   "id": "8c08e554",
   "metadata": {},
   "outputs": [
    {
     "name": "stdout",
     "output_type": "stream",
     "text": [
      "hogo.cavalcante\n",
      "hugo.cavalcante\n",
      "hogo.cavalcante\n"
     ]
    }
   ],
   "source": [
    "texto = \"hugo.cavalcante\"\n",
    "# texto[1] = \"o\"     ---> linha comentada pq da erro informando que a string nao suporta assignment\n",
    "texto.replace(\"u\",\"o\") # ele nao efetua de fato a substituição\n",
    "novo_texto = texto.replace(\"u\",\"o\")\n",
    "print(novo_texto)\n",
    "print(texto)# ele nao alterou a primeira, mas criou outra variavel\n",
    "\n",
    "#mas podemos remomear a mesma variavel.\n",
    "texto = texto.replace(\"u\",\"o\")\n",
    "print(texto)\n"
   ]
  },
  {
   "cell_type": "code",
   "execution_count": 4,
   "id": "1afff46b",
   "metadata": {},
   "outputs": [
    {
     "name": "stdout",
     "output_type": "stream",
     "text": [
      "O valor de venda do produto gasp45 é de 500.00 reais.\n"
     ]
    }
   ],
   "source": [
    "# como decobrir o indice de um produto na lista\n",
    "produtos = [\"gasp13\",\"gasp45\",\"agua22\",\"agua23\", \"agua24\",\"agua25\"]\n",
    "valor_venda = [120,500,5,5,5,5]\n",
    "\n",
    "i = produtos.index(\"gasp45\")#armazendando o indice na variavel i podemos utilizar ele nas outras listas\n",
    "\n",
    "print(\"O valor de venda do produto {} é de {:.2f} reais.\".format(produtos[i],valor_venda[i]))\n"
   ]
  },
  {
   "cell_type": "code",
   "execution_count": 5,
   "id": "3644694f",
   "metadata": {},
   "outputs": [
    {
     "ename": "KeyboardInterrupt",
     "evalue": "Interrupted by user",
     "output_type": "error",
     "traceback": [
      "\u001b[1;31m---------------------------------------------------------------------------\u001b[0m",
      "\u001b[1;31mKeyboardInterrupt\u001b[0m                         Traceback (most recent call last)",
      "Input \u001b[1;32mIn [5]\u001b[0m, in \u001b[0;36m<cell line: 1>\u001b[1;34m()\u001b[0m\n\u001b[1;32m----> 1\u001b[0m prod_pesq \u001b[38;5;241m=\u001b[39m \u001b[38;5;28;43minput\u001b[39;49m\u001b[43m(\u001b[49m\u001b[38;5;124;43m\"\u001b[39;49m\u001b[38;5;124;43minsira o nome do produtoem letras minusculas\u001b[39;49m\u001b[38;5;124;43m\"\u001b[39;49m\u001b[43m)\u001b[49m\n\u001b[0;32m      2\u001b[0m prod_pesq \u001b[38;5;241m=\u001b[39m prod_pesq\u001b[38;5;241m.\u001b[39mstrip()\n\u001b[0;32m      3\u001b[0m prod_pesq \u001b[38;5;241m=\u001b[39m prod_pesq\u001b[38;5;241m.\u001b[39mcasefold()\n",
      "File \u001b[1;32m~\\anaconda3\\lib\\site-packages\\ipykernel\\kernelbase.py:1075\u001b[0m, in \u001b[0;36mKernel.raw_input\u001b[1;34m(self, prompt)\u001b[0m\n\u001b[0;32m   1071\u001b[0m \u001b[38;5;28;01mif\u001b[39;00m \u001b[38;5;129;01mnot\u001b[39;00m \u001b[38;5;28mself\u001b[39m\u001b[38;5;241m.\u001b[39m_allow_stdin:\n\u001b[0;32m   1072\u001b[0m     \u001b[38;5;28;01mraise\u001b[39;00m StdinNotImplementedError(\n\u001b[0;32m   1073\u001b[0m         \u001b[38;5;124m\"\u001b[39m\u001b[38;5;124mraw_input was called, but this frontend does not support input requests.\u001b[39m\u001b[38;5;124m\"\u001b[39m\n\u001b[0;32m   1074\u001b[0m     )\n\u001b[1;32m-> 1075\u001b[0m \u001b[38;5;28;01mreturn\u001b[39;00m \u001b[38;5;28;43mself\u001b[39;49m\u001b[38;5;241;43m.\u001b[39;49m\u001b[43m_input_request\u001b[49m\u001b[43m(\u001b[49m\n\u001b[0;32m   1076\u001b[0m \u001b[43m    \u001b[49m\u001b[38;5;28;43mstr\u001b[39;49m\u001b[43m(\u001b[49m\u001b[43mprompt\u001b[49m\u001b[43m)\u001b[49m\u001b[43m,\u001b[49m\n\u001b[0;32m   1077\u001b[0m \u001b[43m    \u001b[49m\u001b[38;5;28;43mself\u001b[39;49m\u001b[38;5;241;43m.\u001b[39;49m\u001b[43m_parent_ident\u001b[49m\u001b[43m[\u001b[49m\u001b[38;5;124;43m\"\u001b[39;49m\u001b[38;5;124;43mshell\u001b[39;49m\u001b[38;5;124;43m\"\u001b[39;49m\u001b[43m]\u001b[49m\u001b[43m,\u001b[49m\n\u001b[0;32m   1078\u001b[0m \u001b[43m    \u001b[49m\u001b[38;5;28;43mself\u001b[39;49m\u001b[38;5;241;43m.\u001b[39;49m\u001b[43mget_parent\u001b[49m\u001b[43m(\u001b[49m\u001b[38;5;124;43m\"\u001b[39;49m\u001b[38;5;124;43mshell\u001b[39;49m\u001b[38;5;124;43m\"\u001b[39;49m\u001b[43m)\u001b[49m\u001b[43m,\u001b[49m\n\u001b[0;32m   1079\u001b[0m \u001b[43m    \u001b[49m\u001b[43mpassword\u001b[49m\u001b[38;5;241;43m=\u001b[39;49m\u001b[38;5;28;43;01mFalse\u001b[39;49;00m\u001b[43m,\u001b[49m\n\u001b[0;32m   1080\u001b[0m \u001b[43m\u001b[49m\u001b[43m)\u001b[49m\n",
      "File \u001b[1;32m~\\anaconda3\\lib\\site-packages\\ipykernel\\kernelbase.py:1120\u001b[0m, in \u001b[0;36mKernel._input_request\u001b[1;34m(self, prompt, ident, parent, password)\u001b[0m\n\u001b[0;32m   1117\u001b[0m             \u001b[38;5;28;01mbreak\u001b[39;00m\n\u001b[0;32m   1118\u001b[0m \u001b[38;5;28;01mexcept\u001b[39;00m \u001b[38;5;167;01mKeyboardInterrupt\u001b[39;00m:\n\u001b[0;32m   1119\u001b[0m     \u001b[38;5;66;03m# re-raise KeyboardInterrupt, to truncate traceback\u001b[39;00m\n\u001b[1;32m-> 1120\u001b[0m     \u001b[38;5;28;01mraise\u001b[39;00m \u001b[38;5;167;01mKeyboardInterrupt\u001b[39;00m(\u001b[38;5;124m\"\u001b[39m\u001b[38;5;124mInterrupted by user\u001b[39m\u001b[38;5;124m\"\u001b[39m) \u001b[38;5;28;01mfrom\u001b[39;00m \u001b[38;5;28mNone\u001b[39m\n\u001b[0;32m   1121\u001b[0m \u001b[38;5;28;01mexcept\u001b[39;00m \u001b[38;5;167;01mException\u001b[39;00m:\n\u001b[0;32m   1122\u001b[0m     \u001b[38;5;28mself\u001b[39m\u001b[38;5;241m.\u001b[39mlog\u001b[38;5;241m.\u001b[39mwarning(\u001b[38;5;124m\"\u001b[39m\u001b[38;5;124mInvalid Message:\u001b[39m\u001b[38;5;124m\"\u001b[39m, exc_info\u001b[38;5;241m=\u001b[39m\u001b[38;5;28;01mTrue\u001b[39;00m)\n",
      "\u001b[1;31mKeyboardInterrupt\u001b[0m: Interrupted by user"
     ]
    }
   ],
   "source": [
    "prod_pesq = input(\"insira o nome do produtoem letras minusculas\")\n",
    "prod_pesq = prod_pesq.strip()\n",
    "prod_pesq = prod_pesq.casefold()\n",
    "if prod_pesq in produtos:    \n",
    "    i = produtos.index(prod_pesq)\n",
    "    print(\"O valor de venda do Produto {} é de {:.2f}\".format(produtos[i],valor_venda[i]))\n",
    "else:\n",
    "    print(\"Esse produto não existe no estoque!\")"
   ]
  },
  {
   "cell_type": "markdown",
   "id": "1fca3e59",
   "metadata": {},
   "source": [
    "## Adicionar e remover itens de uma lista"
   ]
  },
  {
   "cell_type": "raw",
   "id": "1435a256",
   "metadata": {},
   "source": [
    "Adicionar:\n",
    "\n",
    "lista.append(iten) # adiciona o item ao final da lista\n",
    "\n",
    "Remover:\n",
    "\n",
    "lista.remove(iten) # remove o item da lista trazendo os demais itens 1 indice pra baixo.\n",
    "ou\n",
    "iten_removido = lista.pop(indice) # remove um item da lista possibilitando manter temporariamente o item removido armazenado em uma variavel.\n",
    "\n"
   ]
  },
  {
   "cell_type": "code",
   "execution_count": null,
   "id": "c66c3126",
   "metadata": {},
   "outputs": [],
   "source": [
    "produtos = [\"gasp13\",\"gasp45\",\"agua22\",\"agua23\", \"agua24\",\"agua25\"]\n",
    "print (produtos)\n",
    "print(len(produtos))\n",
    "produtos.append(\"agua26\")\n",
    "print (produtos)\n",
    "print(len(produtos))\n",
    "print (produtos.index(\"agua26\"))"
   ]
  },
  {
   "cell_type": "code",
   "execution_count": null,
   "id": "dfbcd200",
   "metadata": {},
   "outputs": [],
   "source": [
    "produtos = [\"gasp13\",\"gasp45\",\"agua22\",\"agua23\", \"agua24\",\"agua25\"]\n",
    "print(produtos)\n",
    "print (\"O indice do produto agua23 é: {}\".format(produtos.index(\"agua23\")))\n",
    "produtos.remove(\"agua22\")\n",
    "print(produtos)\n",
    "print (\"O indice do produto agua23 é: {}, ou seja ele e todo mundo com indice superior diminuiu em 1 o indice\".format(produtos.index(\"agua23\")))"
   ]
  },
  {
   "cell_type": "code",
   "execution_count": null,
   "id": "366aabd7",
   "metadata": {},
   "outputs": [],
   "source": [
    "produtos = [\"gasp13\",\"gasp45\",\"agua22\",\"agua23\", \"agua24\",\"agua25\"]\n",
    "print(produtos)\n",
    "produto_removido = produtos.pop(2)\n",
    "print(\"o produto {} foi removido com sucesso!\".format(produto_removido))\n",
    "print(produtos)"
   ]
  },
  {
   "cell_type": "code",
   "execution_count": 9,
   "id": "b218a6fc",
   "metadata": {},
   "outputs": [
    {
     "name": "stdout",
     "output_type": "stream",
     "text": [
      "Sua lista de produtos cadastrados é: ['gasp13', 'gasp45', 'agua22', 'agua23', 'agua24', 'agua25']\n",
      "Qual item deseja remover?gasp13\n",
      "['gasp45', 'agua22', 'agua23', 'agua24', 'agua25']\n"
     ]
    }
   ],
   "source": [
    "produtos = [\"gasp13\",\"gasp45\",\"agua22\",\"agua23\", \"agua24\",\"agua25\"]\n",
    "print(\"Sua lista de produtos cadastrados é: {}\".format(produtos))\n",
    "remove = input(\"Qual item deseja remover?\")\n",
    "\n",
    "try:\n",
    "    produtos.remove(remove)\n",
    "    print(produtos)\n",
    "except:\n",
    "    print(\"O produto {} não existe na lista de produtos\".format(remove))"
   ]
  },
  {
   "cell_type": "code",
   "execution_count": null,
   "id": "60c5b7cd",
   "metadata": {},
   "outputs": [],
   "source": []
  }
 ],
 "metadata": {
  "kernelspec": {
   "display_name": "Python 3 (ipykernel)",
   "language": "python",
   "name": "python3"
  },
  "language_info": {
   "codemirror_mode": {
    "name": "ipython",
    "version": 3
   },
   "file_extension": ".py",
   "mimetype": "text/x-python",
   "name": "python",
   "nbconvert_exporter": "python",
   "pygments_lexer": "ipython3",
   "version": "3.9.12"
  }
 },
 "nbformat": 4,
 "nbformat_minor": 5
}
