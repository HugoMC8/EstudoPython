{
 "cells": [
  {
   "cell_type": "raw",
   "id": "557d0f59",
   "metadata": {},
   "source": [
    "## Listas"
   ]
  },
  {
   "cell_type": "markdown",
   "id": "c5b91fe5",
   "metadata": {},
   "source": [
    "produtos = [\"gasp13\",\"gasp45\",\"agua22\",\"agua23\", \"agua24\",\"agua25\"]"
   ]
  },
  {
   "cell_type": "code",
   "execution_count": 1,
   "id": "9ff38ef7",
   "metadata": {},
   "outputs": [
    {
     "name": "stdout",
     "output_type": "stream",
     "text": [
      "['gasp13', 'gasp45', 'agua22', 'agua23', 'agua24', 'agua25']\n"
     ]
    }
   ],
   "source": [
    "produtos = [\"gasp13\",\"gasp45\",\"agua22\",\"agua23\", \"agua24\",\"agua25\"] #lista homogeneas (apenas um tipo de variavel)\n",
    "# ou\n",
    "produtos = [\"gasp13\", # outra forma de listas em python\n",
    "            \"gasp45\",\n",
    "            \"agua22\",\n",
    "            \"agua23\",\n",
    "            \"agua24\",\n",
    "            \"agua25\",\n",
    "           ]\n",
    "print (produtos)"
   ]
  },
  {
   "cell_type": "raw",
   "id": "21325f14",
   "metadata": {},
   "source": [
    "produtos = [\"gasp13\",\"gasp45\",\"agua22\",\"agua23\", \"agua24\",\"agua25\"]\n",
    "lista[i]---> e o valor de indice i da lista\n",
    "lembrando que o indice sempre comeca em 0 no python\n",
    "\n",
    "e para substituir um valor de uma lista basta:\n",
    "lista[i] = novo_valor"
   ]
  },
  {
   "cell_type": "raw",
   "id": "9cf3aa6c",
   "metadata": {},
   "source": [
    "produtos = [\"gasp13\",\"gasp45\",\"agua22\",\"agua23\", \"agua24\",\"agua25\"]\n",
    "indice         0        1        2        3          4        5\n",
    "\n",
    "valor_venda = [120,500,5,5,5,5]\n",
    "indice          0 1 2 3  4  5"
   ]
  },
  {
   "cell_type": "code",
   "execution_count": 2,
   "id": "d52d8aa9",
   "metadata": {},
   "outputs": [
    {
     "name": "stdout",
     "output_type": "stream",
     "text": [
      "[120, 500, 5, 5, 5, 5]\n",
      "[130, 500, 5, 5, 5, 5]\n"
     ]
    }
   ],
   "source": [
    "produtos = [\"gasp13\",\"gasp45\",\"agua22\",\"agua23\", \"agua24\",\"agua25\"]\n",
    "valor_venda = [120,500,5,5,5,5]\n",
    "print(valor_venda)\n",
    "\n",
    "#caso queira mudar o valor de venda do gas p13 para 130\n",
    "valor_venda[0] = 130 \n",
    "print (valor_venda)"
   ]
  },
  {
   "cell_type": "markdown",
   "id": "9ecb9a18",
   "metadata": {},
   "source": [
    "Uma string se comporta como uma lista pro python, mas e uma lista imutavel."
   ]
  },
  {
   "cell_type": "code",
   "execution_count": 3,
   "id": "482efcf6",
   "metadata": {},
   "outputs": [
    {
     "name": "stdout",
     "output_type": "stream",
     "text": [
      "hogo.cavalcante\n",
      "hugo.cavalcante\n",
      "hogo.cavalcante\n"
     ]
    }
   ],
   "source": [
    "texto = \"hugo.cavalcante\"\n",
    "# texto[1] = \"o\"     ---> linha comentada pq da erro informando que a string nao suporta assignment\n",
    "texto.replace(\"u\",\"o\") # ele nao efetua de fato a substituição\n",
    "novo_texto = texto.replace(\"u\",\"o\")\n",
    "print(novo_texto)\n",
    "print(texto)# ele nao alterou a primeira, mas criou outra variavel\n",
    "\n",
    "#mas podemos remomear a mesma variavel.\n",
    "texto = texto.replace(\"u\",\"o\")\n",
    "print(texto)\n"
   ]
  },
  {
   "cell_type": "code",
   "execution_count": 4,
   "id": "f2dd7951",
   "metadata": {},
   "outputs": [
    {
     "name": "stdout",
     "output_type": "stream",
     "text": [
      "O valor de venda do produto gasp45 é de 500.00 reais.\n"
     ]
    }
   ],
   "source": [
    "# como decobrir o indice de um produto na lista\n",
    "produtos = [\"gasp13\",\"gasp45\",\"agua22\",\"agua23\", \"agua24\",\"agua25\"]\n",
    "valor_venda = [120,500,5,5,5,5]\n",
    "\n",
    "i = produtos.index(\"gasp45\")#armazendando o indice na variavel i podemos utilizar ele nas outras listas\n",
    "\n",
    "print(\"O valor de venda do produto {} é de {:.2f} reais.\".format(produtos[i],valor_venda[i]))\n"
   ]
  },
  {
   "cell_type": "code",
   "execution_count": 17,
   "id": "3e7cb7fc",
   "metadata": {},
   "outputs": [
    {
     "ename": "KeyboardInterrupt",
     "evalue": "Interrupted by user",
     "output_type": "error",
     "traceback": [
      "\u001b[1;31m---------------------------------------------------------------------------\u001b[0m",
      "\u001b[1;31mKeyboardInterrupt\u001b[0m                         Traceback (most recent call last)",
      "Input \u001b[1;32mIn [17]\u001b[0m, in \u001b[0;36m<cell line: 1>\u001b[1;34m()\u001b[0m\n\u001b[1;32m----> 1\u001b[0m prod_pesq \u001b[38;5;241m=\u001b[39m \u001b[38;5;28;43minput\u001b[39;49m\u001b[43m(\u001b[49m\u001b[38;5;124;43m\"\u001b[39;49m\u001b[38;5;124;43minsira o nome do produtoem letras minusculas\u001b[39;49m\u001b[38;5;124;43m\"\u001b[39;49m\u001b[43m)\u001b[49m\n\u001b[0;32m      2\u001b[0m prod_pesq \u001b[38;5;241m=\u001b[39m prod_pesq\u001b[38;5;241m.\u001b[39mstrip()\n\u001b[0;32m      3\u001b[0m prod_pesq \u001b[38;5;241m=\u001b[39m prod_pesq\u001b[38;5;241m.\u001b[39mcasefold()\n",
      "File \u001b[1;32m~\\anaconda3\\lib\\site-packages\\ipykernel\\kernelbase.py:1075\u001b[0m, in \u001b[0;36mKernel.raw_input\u001b[1;34m(self, prompt)\u001b[0m\n\u001b[0;32m   1071\u001b[0m \u001b[38;5;28;01mif\u001b[39;00m \u001b[38;5;129;01mnot\u001b[39;00m \u001b[38;5;28mself\u001b[39m\u001b[38;5;241m.\u001b[39m_allow_stdin:\n\u001b[0;32m   1072\u001b[0m     \u001b[38;5;28;01mraise\u001b[39;00m StdinNotImplementedError(\n\u001b[0;32m   1073\u001b[0m         \u001b[38;5;124m\"\u001b[39m\u001b[38;5;124mraw_input was called, but this frontend does not support input requests.\u001b[39m\u001b[38;5;124m\"\u001b[39m\n\u001b[0;32m   1074\u001b[0m     )\n\u001b[1;32m-> 1075\u001b[0m \u001b[38;5;28;01mreturn\u001b[39;00m \u001b[38;5;28;43mself\u001b[39;49m\u001b[38;5;241;43m.\u001b[39;49m\u001b[43m_input_request\u001b[49m\u001b[43m(\u001b[49m\n\u001b[0;32m   1076\u001b[0m \u001b[43m    \u001b[49m\u001b[38;5;28;43mstr\u001b[39;49m\u001b[43m(\u001b[49m\u001b[43mprompt\u001b[49m\u001b[43m)\u001b[49m\u001b[43m,\u001b[49m\n\u001b[0;32m   1077\u001b[0m \u001b[43m    \u001b[49m\u001b[38;5;28;43mself\u001b[39;49m\u001b[38;5;241;43m.\u001b[39;49m\u001b[43m_parent_ident\u001b[49m\u001b[43m[\u001b[49m\u001b[38;5;124;43m\"\u001b[39;49m\u001b[38;5;124;43mshell\u001b[39;49m\u001b[38;5;124;43m\"\u001b[39;49m\u001b[43m]\u001b[49m\u001b[43m,\u001b[49m\n\u001b[0;32m   1078\u001b[0m \u001b[43m    \u001b[49m\u001b[38;5;28;43mself\u001b[39;49m\u001b[38;5;241;43m.\u001b[39;49m\u001b[43mget_parent\u001b[49m\u001b[43m(\u001b[49m\u001b[38;5;124;43m\"\u001b[39;49m\u001b[38;5;124;43mshell\u001b[39;49m\u001b[38;5;124;43m\"\u001b[39;49m\u001b[43m)\u001b[49m\u001b[43m,\u001b[49m\n\u001b[0;32m   1079\u001b[0m \u001b[43m    \u001b[49m\u001b[43mpassword\u001b[49m\u001b[38;5;241;43m=\u001b[39;49m\u001b[38;5;28;43;01mFalse\u001b[39;49;00m\u001b[43m,\u001b[49m\n\u001b[0;32m   1080\u001b[0m \u001b[43m\u001b[49m\u001b[43m)\u001b[49m\n",
      "File \u001b[1;32m~\\anaconda3\\lib\\site-packages\\ipykernel\\kernelbase.py:1120\u001b[0m, in \u001b[0;36mKernel._input_request\u001b[1;34m(self, prompt, ident, parent, password)\u001b[0m\n\u001b[0;32m   1117\u001b[0m             \u001b[38;5;28;01mbreak\u001b[39;00m\n\u001b[0;32m   1118\u001b[0m \u001b[38;5;28;01mexcept\u001b[39;00m \u001b[38;5;167;01mKeyboardInterrupt\u001b[39;00m:\n\u001b[0;32m   1119\u001b[0m     \u001b[38;5;66;03m# re-raise KeyboardInterrupt, to truncate traceback\u001b[39;00m\n\u001b[1;32m-> 1120\u001b[0m     \u001b[38;5;28;01mraise\u001b[39;00m \u001b[38;5;167;01mKeyboardInterrupt\u001b[39;00m(\u001b[38;5;124m\"\u001b[39m\u001b[38;5;124mInterrupted by user\u001b[39m\u001b[38;5;124m\"\u001b[39m) \u001b[38;5;28;01mfrom\u001b[39;00m \u001b[38;5;28mNone\u001b[39m\n\u001b[0;32m   1121\u001b[0m \u001b[38;5;28;01mexcept\u001b[39;00m \u001b[38;5;167;01mException\u001b[39;00m:\n\u001b[0;32m   1122\u001b[0m     \u001b[38;5;28mself\u001b[39m\u001b[38;5;241m.\u001b[39mlog\u001b[38;5;241m.\u001b[39mwarning(\u001b[38;5;124m\"\u001b[39m\u001b[38;5;124mInvalid Message:\u001b[39m\u001b[38;5;124m\"\u001b[39m, exc_info\u001b[38;5;241m=\u001b[39m\u001b[38;5;28;01mTrue\u001b[39;00m)\n",
      "\u001b[1;31mKeyboardInterrupt\u001b[0m: Interrupted by user"
     ]
    }
   ],
   "source": [
    "prod_pesq = input(\"insira o nome do produtoem letras minusculas\")\n",
    "prod_pesq = prod_pesq.strip()\n",
    "prod_pesq = prod_pesq.casefold()\n",
    "if prod_pesq in produtos:    \n",
    "    i = produtos.index(prod_pesq)\n",
    "    print(\"O valor de venda do Produto {} é de {:.2f}\".format(produtos[i],valor_venda[i]))\n",
    "else:\n",
    "    print(\"Esse produto não existe no estoque!\")"
   ]
  },
  {
   "cell_type": "markdown",
   "id": "fa116441",
   "metadata": {},
   "source": [
    "## Adicionar e remover itens de uma lista"
   ]
  },
  {
   "cell_type": "raw",
   "id": "1fb48938",
   "metadata": {},
   "source": [
    "Adicionar:\n",
    "\n",
    "lista.append(iten) # adiciona o item ao final da lista\n",
    "\n",
    "Remover:\n",
    "\n",
    "lista.remove(iten) # remove o item da lista trazendo os demais itens 1 indice pra baixo.\n",
    "ou\n",
    "iten_removido = lista.pop(indice) # remove um item da lista possibilitando manter temporariamente o item removido armazenado em uma variavel.\n",
    "\n"
   ]
  },
  {
   "cell_type": "code",
   "execution_count": null,
   "id": "2ca16bcb",
   "metadata": {},
   "outputs": [],
   "source": [
    "produtos = [\"gasp13\",\"gasp45\",\"agua22\",\"agua23\", \"agua24\",\"agua25\"]\n",
    "print (produtos)\n",
    "print(len(produtos))\n",
    "produtos.append(\"agua26\")\n",
    "print (produtos)\n",
    "print(len(produtos))\n",
    "print (produtos.index(\"agua26\"))"
   ]
  },
  {
   "cell_type": "code",
   "execution_count": null,
   "id": "76228fd6",
   "metadata": {},
   "outputs": [],
   "source": [
    "produtos = [\"gasp13\",\"gasp45\",\"agua22\",\"agua23\", \"agua24\",\"agua25\"]\n",
    "print(produtos)\n",
    "print (\"O indice do produto agua23 é: {}\".format(produtos.index(\"agua23\")))\n",
    "produtos.remove(\"agua22\")\n",
    "print(produtos)\n",
    "print (\"O indice do produto agua23 é: {}, ou seja ele e todo mundo com indice superior diminuiu em 1 o indice\".format(produtos.index(\"agua23\")))"
   ]
  },
  {
   "cell_type": "code",
   "execution_count": null,
   "id": "e0b1a873",
   "metadata": {},
   "outputs": [],
   "source": [
    "produtos = [\"gasp13\",\"gasp45\",\"agua22\",\"agua23\", \"agua24\",\"agua25\"]\n",
    "print(produtos)\n",
    "produto_removido = produtos.pop(2)\n",
    "print(\"o produto {} foi removido com sucesso!\".format(produto_removido))\n",
    "print(produtos)"
   ]
  },
  {
   "cell_type": "code",
   "execution_count": 9,
   "id": "0a25848e",
   "metadata": {},
   "outputs": [
    {
     "name": "stdout",
     "output_type": "stream",
     "text": [
      "Sua lista de produtos cadastrados é: ['gasp13', 'gasp45', 'agua22', 'agua23', 'agua24', 'agua25']\n",
      "Qual item deseja remover?gasp13\n",
      "['gasp45', 'agua22', 'agua23', 'agua24', 'agua25']\n"
     ]
    }
   ],
   "source": [
    "produtos = [\"gasp13\",\"gasp45\",\"agua22\",\"agua23\", \"agua24\",\"agua25\"]\n",
    "print(\"Sua lista de produtos cadastrados é: {}\".format(produtos))\n",
    "remove = input(\"Qual item deseja remover?\")\n",
    "\n",
    "try:\n",
    "    produtos.remove(remove)\n",
    "    print(produtos)\n",
    "except:\n",
    "    print(\"O produto {} não existe na lista de produtos\".format(remove))"
   ]
  },
  {
   "cell_type": "markdown",
   "id": "f3ead97a",
   "metadata": {},
   "source": [
    "## Tamanho da lista, Maior valor e Menos valor."
   ]
  },
  {
   "cell_type": "code",
   "execution_count": 55,
   "id": "d0d8a8d8",
   "metadata": {},
   "outputs": [
    {
     "name": "stdout",
     "output_type": "stream",
     "text": [
      "O tamanho do email é de 20 caracteres.\n",
      "O tamanho da lista é de 6 itens\n",
      "Existem 6 produtos cadastrados na lista\n",
      "O item mais caro da lista é 500.00 reais e o mais barato é 5.00 reais\n",
      "O item mais caro é gasp45 com o valor unitário de 500.00\n",
      "O item mais barato é agua22 com o valor unitário de 5.00\n"
     ]
    }
   ],
   "source": [
    "email = \"usuario.88@gmail.com\"\n",
    "print(\"O tamanho do email é de {} caracteres.\".format(len(email)))\n",
    "#tamanho de uma string \n",
    "\n",
    "produtos = [\"gasp13\",\"gasp45\",\"agua22\",\"agua23\", \"agua24\",\"agua25\"]\n",
    "print(\"O tamanho da lista é de {} itens\".format(len(produtos)))\n",
    "print(\"Existem {} produtos cadastrados na lista\".format(len(produtos)))\n",
    "\n",
    "#tamanho de uma lista\n",
    "valor_venda = [120,500,5,5,5,5]\n",
    "print(\"O item mais caro da lista é {:.2f} reais e o mais barato é {:.2f} reais\".format(max(valor_venda),min(valor_venda)))\n",
    "\n",
    "\n",
    "#corelacionando o indice do item mais caro e do mais barato ao nome do item na lista de produtos\n",
    "print(\"O item mais caro é {} com o valor unitário de {:.2f}\".format(produtos[valor_venda.index(max(valor_venda))],max(valor_venda)))\n",
    "print(\"O item mais barato é {} com o valor unitário de {:.2f}\".format(produtos[valor_venda.index(min(valor_venda))],min(valor_venda)))\n"
   ]
  },
  {
   "cell_type": "markdown",
   "id": "59603257",
   "metadata": {},
   "source": [
    "## Juntar listas, ordenar listas e cuidados.\n",
    "2 formas:\n",
    "\n",
    "lista1.extend(lista2)\n",
    "\n",
    "lista_nova = lista1 + lista2\n",
    "\n",
    "### já vimos o .append porem o apend nao junta listas apenas adiciona um valor ao final de uma lista\n",
    "\n"
   ]
  },
  {
   "cell_type": "code",
   "execution_count": 35,
   "id": "8aba3bf2",
   "metadata": {},
   "outputs": [
    {
     "name": "stdout",
     "output_type": "stream",
     "text": [
      "['gasp13', 'gasp45', 'agua22', 'agua23', 'agua24', 'agua25']\n",
      "['gasp5', 'agua26']\n",
      "['gasp13', 'gasp45', 'agua22', 'agua23', 'agua24', 'agua25', 'gasp5', 'agua26']\n",
      "['gasp13', 'gasp45', 'agua22', 'agua23', 'agua24', 'agua25', 'gasp5', 'agua26']\n",
      "['gasp5', 'agua26']\n"
     ]
    }
   ],
   "source": [
    "produtos = [\"gasp13\",\"gasp45\",\"agua22\",\"agua23\", \"agua24\",\"agua25\"]\n",
    "produtos2 = [\"gasp5\", \"agua26\"]\n",
    "\n",
    "print (produtos)\n",
    "print (produtos2)\n",
    "\n",
    "produtos3 = produtos + produtos2\n",
    "\n",
    "print(produtos3)\n",
    "\n",
    "# ou podemos usar uma como base e alterar ela pra que seja adicionada a outra lista ao final dela\n",
    "\n",
    "produtos.extend(produtos2)\n",
    "print (produtos)\n",
    "print (produtos2)\n",
    "#dessa forma a lista 1 foi alterada ja que a lista 2 foi adicionada ao final da lista 1, porem a lista 2 se manteve inalterada\n"
   ]
  },
  {
   "cell_type": "markdown",
   "id": "36eb44da",
   "metadata": {},
   "source": [
    "## ordenar listas\n",
    "## tomar MUITO cuidado com o sort quando tiver mais de uma lista correlacionada para nao perder a correlação."
   ]
  },
  {
   "cell_type": "code",
   "execution_count": 41,
   "id": "2ccd61f7",
   "metadata": {},
   "outputs": [
    {
     "name": "stdout",
     "output_type": "stream",
     "text": [
      "['gasp13', 'gasp45', 'agua22', 'agua23', 'agua24', 'agua25']\n",
      "['agua22', 'agua23', 'agua24', 'agua25', 'gasp13', 'gasp45']\n",
      "['gasp45', 'gasp13', 'agua25', 'agua24', 'agua23', 'agua22']\n",
      "['agua22', 'agua23', 'agua24', 'agua25', 'gasp13', 'gasp45']\n"
     ]
    }
   ],
   "source": [
    "produtos = [\"gasp13\",\"gasp45\",\"agua22\",\"agua23\", \"agua24\",\"agua25\"]\n",
    "print (produtos)\n",
    "produtos.sort()\n",
    "print (produtos)\n",
    "produtos.sort(reverse=True)# possibilidade para inverter a ordem. serve para numeros tambem.\n",
    "print (produtos)\n",
    "produtos.sort(reverse=False)#igual não ter passado parametro dentro dos () como padrão reverse = false\n",
    "print (produtos)"
   ]
  },
  {
   "cell_type": "markdown",
   "id": "8ceb8096",
   "metadata": {},
   "source": [
    "## print de listas"
   ]
  },
  {
   "cell_type": "code",
   "execution_count": 45,
   "id": "f1a4dac6",
   "metadata": {},
   "outputs": [
    {
     "name": "stdout",
     "output_type": "stream",
     "text": [
      "['gasp13', 'gasp45', 'agua22', 'agua23', 'agua24', 'agua25']\n",
      "gasp13, gasp45, agua22, agua23, agua24, agua25\n",
      "gasp13\n",
      "gasp45\n",
      "agua22\n",
      "agua23\n",
      "agua24\n",
      "agua25\n"
     ]
    }
   ],
   "source": [
    "produtos = [\"gasp13\",\"gasp45\",\"agua22\",\"agua23\", \"agua24\",\"agua25\"]\n",
    "print (produtos)#print normal\n",
    "# transformando listas em string\n",
    "print(\", \".join(produtos)) # separando por ,\n",
    "print(\"\\n\".join(produtos)) # separado por \"enter\"\n"
   ]
  },
  {
   "cell_type": "code",
   "execution_count": 52,
   "id": "5900c33d",
   "metadata": {},
   "outputs": [
    {
     "name": "stdout",
     "output_type": "stream",
     "text": [
      "gasp13, gasp45, agua22, agua23, agua24, agua25\n",
      "['gasp13', 'gasp45', 'agua22', 'agua23', 'agua24', 'agua25']\n",
      "6\n"
     ]
    }
   ],
   "source": [
    "produtos = \"gasp13, gasp45, agua22, agua23, agua24, agua25\"\n",
    "print(produtos)\n",
    "produtos = produtos.split(\", \")# transformando string em lista através do separador(\", \")\n",
    "print(produtos)\n",
    "print(len(produtos))\n",
    "\n"
   ]
  },
  {
   "cell_type": "markdown",
   "id": "c10f541b",
   "metadata": {},
   "source": [
    "## Cópias e igualdade de listas"
   ]
  },
  {
   "cell_type": "code",
   "execution_count": 65,
   "id": "2105e548",
   "metadata": {},
   "outputs": [
    {
     "name": "stdout",
     "output_type": "stream",
     "text": [
      "['gasp13', 'gasp45', 'agua22', 'agua23', 'agua24', 'agua25']\n",
      "['gasp13', 'gasp45', 'agua22', 'agua23', 'agua24', 'agua25']\n",
      "['gasp45', 'agua22', 'agua23', 'agua24', 'agua25']\n",
      "['gasp45', 'agua22', 'agua23', 'agua24', 'agua25']\n"
     ]
    }
   ],
   "source": [
    "# equivoco em copiar listas\n",
    "produtos = [\"gasp13\",\"gasp45\",\"agua22\",\"agua23\", \"agua24\",\"agua25\"]\n",
    "#essa e a lista original que deveria ser criada uma copia e editada a copia mantendo o original\n",
    "print(produtos)\n",
    "produtos_copia = produtos\n",
    "print(produtos_copia)\n",
    "produtos_copia.remove(\"gasp13\")#aqui estariamos retirando o item da lista copia\n",
    "print(produtos_copia)#como podemos ver ele realmente foi removido, no entanto tambem foi removido da lista original\n",
    "\n",
    "print(produtos)#isso se da pq nao foi criada uma copia da lista mas sim atribuindo outra variavel pra a mesma lista. "
   ]
  },
  {
   "cell_type": "code",
   "execution_count": 70,
   "id": "f57262cb",
   "metadata": {},
   "outputs": [
    {
     "name": "stdout",
     "output_type": "stream",
     "text": [
      "['gasp13', 'gasp45', 'agua22', 'agua23', 'agua24', 'agua25']\n",
      "['gasp13', 'gasp45', 'agua22', 'agua23', 'agua24', 'agua25']\n",
      "['gasp45', 'agua22', 'agua23', 'agua24', 'agua25']\n",
      "['gasp13', 'gasp45', 'agua22', 'agua23', 'agua24', 'agua25']\n"
     ]
    }
   ],
   "source": [
    "#por isso criamos uma copia de uma lista utilizando o metodo .copy()\n",
    "produtos = [\"gasp13\",\"gasp45\",\"agua22\",\"agua23\", \"agua24\",\"agua25\"]\n",
    "print(produtos)\n",
    "produtos_copia = produtos.copy() #assim copiamos uma lista de verdade\n",
    "print(produtos_copia)\n",
    "\n",
    "produtos_copia.remove(\"gasp13\")\n",
    "print(produtos_copia) #a lista copia foi alterada com a remoção de um item\n",
    "\n",
    "print(produtos)#nossa lista original se manteve intacta\n",
    "\n",
    "\n",
    "#ou entao podemos tambem lista2 = lista1[:]\n",
    "# produtos_copia = produtos[:]"
   ]
  },
  {
   "cell_type": "markdown",
   "id": "fc1c2d7f",
   "metadata": {},
   "source": [
    "## lista de lista"
   ]
  },
  {
   "cell_type": "code",
   "execution_count": 74,
   "id": "23f17be6",
   "metadata": {},
   "outputs": [
    {
     "name": "stdout",
     "output_type": "stream",
     "text": [
      "O entregador1, vendeu ao todo 2520 reais, \n",
      "sendo R$ 2400 em gas \n",
      "e R$ 120 em agua.\n"
     ]
    }
   ],
   "source": [
    "entregadores = [\"entregador1\", \"entregador2\",\"Entregador3\", \"Entregador 4\"]\n",
    "produtos = [\"gas\",\"agua\"]\n",
    "vendas = [\n",
    "    [2400,120],\n",
    "    [1200,100],\n",
    "    [800,210],\n",
    "    [3100,10],\n",
    "]\n",
    "# vendas = [[2400,120],[1200,100],[800,210],[3100,10],] pode ser que seja encontrado dessa maneira\n",
    "# descobrir as entregas do entregador 1 por exemplo (forma manual)\n",
    "print(\"O {}, vendeu ao todo {} reais, \\nsendo R$ {} em {} \\ne R$ {} em {}.\".format(entregadores[0],sum(vendas[0]),vendas[0][0],produtos[0],vendas[0][1],produtos[1]))\n"
   ]
  },
  {
   "cell_type": "code",
   "execution_count": 76,
   "id": "0bd69f1f",
   "metadata": {},
   "outputs": [
    {
     "name": "stdout",
     "output_type": "stream",
     "text": [
      "[[2400, 120], [1200, 100], [800, 210], [3100, 10]]\n",
      "[[2300, 120], [1200, 100], [800, 210], [3100, 10]]\n"
     ]
    }
   ],
   "source": [
    "#modificar um item de uma lista dentro de uma lista\n",
    "vendas = [\n",
    "    [2400,120],\n",
    "    [1200,100],\n",
    "    [800,210],\n",
    "    [3100,10],\n",
    "]\n",
    "print(vendas)\n",
    "#alterar de 2400 para 2300\n",
    "\n",
    "vendas[0][0] = 2300\n",
    "print(vendas)"
   ]
  },
  {
   "cell_type": "code",
   "execution_count": 81,
   "id": "6a027e8d",
   "metadata": {},
   "outputs": [
    {
     "name": "stdout",
     "output_type": "stream",
     "text": [
      "[[2400, 120], [1200, 100], [800, 210], [3100, 10]]\n",
      "[[2400, 120, 500], [1200, 100], [800, 210], [3100, 10]]\n",
      "[[2400, 120, 500], [1200, 100, 600], [800, 210], [3100, 10]]\n",
      "[[2400, 120, 500], [1200, 100, 600], [800, 210, 800], [3100, 10]]\n",
      "[[2400, 120, 500], [1200, 100, 600], [800, 210, 800], [3100, 10, 100]]\n"
     ]
    }
   ],
   "source": [
    "#adicionar um item a cada item da lista\n",
    "vendas = [\n",
    "    [2400,120],\n",
    "    [1200,100],\n",
    "    [800,210],\n",
    "    [3100,10],\n",
    "]\n",
    "print(vendas)\n",
    "vendas2 = [500,600,800,100]\n",
    "\n",
    "vendas[0].append(vendas2[0])\n",
    "print(vendas)\n",
    "\n",
    "vendas[1].append(vendas2[1])\n",
    "print(vendas)\n",
    "\n",
    "vendas[2].append(vendas2[2])\n",
    "print(vendas)\n",
    "\n",
    "vendas[3].append(vendas2[3])\n",
    "print(vendas)\n",
    "\n",
    "# forma manual para treinar\n",
    "\n"
   ]
  },
  {
   "cell_type": "code",
   "execution_count": null,
   "id": "cce8d36a",
   "metadata": {},
   "outputs": [],
   "source": []
  }
 ],
 "metadata": {
  "kernelspec": {
   "display_name": "Python 3 (ipykernel)",
   "language": "python",
   "name": "python3"
  },
  "language_info": {
   "codemirror_mode": {
    "name": "ipython",
    "version": 3
   },
   "file_extension": ".py",
   "mimetype": "text/x-python",
   "name": "python",
   "nbconvert_exporter": "python",
   "pygments_lexer": "ipython3",
   "version": "3.9.12"
  }
 },
 "nbformat": 4,
 "nbformat_minor": 5
}
