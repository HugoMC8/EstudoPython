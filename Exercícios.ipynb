{
 "cells": [
  {
   "cell_type": "code",
   "execution_count": 1,
   "id": "9cc14373",
   "metadata": {},
   "outputs": [
    {
     "ename": "KeyboardInterrupt",
     "evalue": "Interrupted by user",
     "output_type": "error",
     "traceback": [
      "\u001b[1;31m---------------------------------------------------------------------------\u001b[0m",
      "\u001b[1;31mKeyboardInterrupt\u001b[0m                         Traceback (most recent call last)",
      "Input \u001b[1;32mIn [1]\u001b[0m, in \u001b[0;36m<cell line: 1>\u001b[1;34m()\u001b[0m\n\u001b[1;32m----> 1\u001b[0m gasp13 \u001b[38;5;241m=\u001b[39m \u001b[38;5;28;43minput\u001b[39;49m\u001b[43m(\u001b[49m\u001b[38;5;124;43m\"\u001b[39;49m\u001b[38;5;124;43mQuantos Botijões de P13 tem na Base?\u001b[39;49m\u001b[38;5;124;43m\"\u001b[39;49m\u001b[43m)\u001b[49m\n\u001b[0;32m      2\u001b[0m vasip13 \u001b[38;5;241m=\u001b[39m \u001b[38;5;28minput\u001b[39m(\u001b[38;5;124m\"\u001b[39m\u001b[38;5;124mQuantos Vasilhames de Botijão vazio de P13 tem na Base?\u001b[39m\u001b[38;5;124m\"\u001b[39m)\n\u001b[0;32m      3\u001b[0m agua2022 \u001b[38;5;241m=\u001b[39m \u001b[38;5;28minput\u001b[39m(\u001b[38;5;124m\"\u001b[39m\u001b[38;5;124mQuantos Galões de Água 2022 Cheios tem na base?\u001b[39m\u001b[38;5;124m\"\u001b[39m)\n",
      "File \u001b[1;32m~\\anaconda3\\lib\\site-packages\\ipykernel\\kernelbase.py:1075\u001b[0m, in \u001b[0;36mKernel.raw_input\u001b[1;34m(self, prompt)\u001b[0m\n\u001b[0;32m   1071\u001b[0m \u001b[38;5;28;01mif\u001b[39;00m \u001b[38;5;129;01mnot\u001b[39;00m \u001b[38;5;28mself\u001b[39m\u001b[38;5;241m.\u001b[39m_allow_stdin:\n\u001b[0;32m   1072\u001b[0m     \u001b[38;5;28;01mraise\u001b[39;00m StdinNotImplementedError(\n\u001b[0;32m   1073\u001b[0m         \u001b[38;5;124m\"\u001b[39m\u001b[38;5;124mraw_input was called, but this frontend does not support input requests.\u001b[39m\u001b[38;5;124m\"\u001b[39m\n\u001b[0;32m   1074\u001b[0m     )\n\u001b[1;32m-> 1075\u001b[0m \u001b[38;5;28;01mreturn\u001b[39;00m \u001b[38;5;28;43mself\u001b[39;49m\u001b[38;5;241;43m.\u001b[39;49m\u001b[43m_input_request\u001b[49m\u001b[43m(\u001b[49m\n\u001b[0;32m   1076\u001b[0m \u001b[43m    \u001b[49m\u001b[38;5;28;43mstr\u001b[39;49m\u001b[43m(\u001b[49m\u001b[43mprompt\u001b[49m\u001b[43m)\u001b[49m\u001b[43m,\u001b[49m\n\u001b[0;32m   1077\u001b[0m \u001b[43m    \u001b[49m\u001b[38;5;28;43mself\u001b[39;49m\u001b[38;5;241;43m.\u001b[39;49m\u001b[43m_parent_ident\u001b[49m\u001b[43m[\u001b[49m\u001b[38;5;124;43m\"\u001b[39;49m\u001b[38;5;124;43mshell\u001b[39;49m\u001b[38;5;124;43m\"\u001b[39;49m\u001b[43m]\u001b[49m\u001b[43m,\u001b[49m\n\u001b[0;32m   1078\u001b[0m \u001b[43m    \u001b[49m\u001b[38;5;28;43mself\u001b[39;49m\u001b[38;5;241;43m.\u001b[39;49m\u001b[43mget_parent\u001b[49m\u001b[43m(\u001b[49m\u001b[38;5;124;43m\"\u001b[39;49m\u001b[38;5;124;43mshell\u001b[39;49m\u001b[38;5;124;43m\"\u001b[39;49m\u001b[43m)\u001b[49m\u001b[43m,\u001b[49m\n\u001b[0;32m   1079\u001b[0m \u001b[43m    \u001b[49m\u001b[43mpassword\u001b[49m\u001b[38;5;241;43m=\u001b[39;49m\u001b[38;5;28;43;01mFalse\u001b[39;49;00m\u001b[43m,\u001b[49m\n\u001b[0;32m   1080\u001b[0m \u001b[43m\u001b[49m\u001b[43m)\u001b[49m\n",
      "File \u001b[1;32m~\\anaconda3\\lib\\site-packages\\ipykernel\\kernelbase.py:1120\u001b[0m, in \u001b[0;36mKernel._input_request\u001b[1;34m(self, prompt, ident, parent, password)\u001b[0m\n\u001b[0;32m   1117\u001b[0m             \u001b[38;5;28;01mbreak\u001b[39;00m\n\u001b[0;32m   1118\u001b[0m \u001b[38;5;28;01mexcept\u001b[39;00m \u001b[38;5;167;01mKeyboardInterrupt\u001b[39;00m:\n\u001b[0;32m   1119\u001b[0m     \u001b[38;5;66;03m# re-raise KeyboardInterrupt, to truncate traceback\u001b[39;00m\n\u001b[1;32m-> 1120\u001b[0m     \u001b[38;5;28;01mraise\u001b[39;00m \u001b[38;5;167;01mKeyboardInterrupt\u001b[39;00m(\u001b[38;5;124m\"\u001b[39m\u001b[38;5;124mInterrupted by user\u001b[39m\u001b[38;5;124m\"\u001b[39m) \u001b[38;5;28;01mfrom\u001b[39;00m \u001b[38;5;28mNone\u001b[39m\n\u001b[0;32m   1121\u001b[0m \u001b[38;5;28;01mexcept\u001b[39;00m \u001b[38;5;167;01mException\u001b[39;00m:\n\u001b[0;32m   1122\u001b[0m     \u001b[38;5;28mself\u001b[39m\u001b[38;5;241m.\u001b[39mlog\u001b[38;5;241m.\u001b[39mwarning(\u001b[38;5;124m\"\u001b[39m\u001b[38;5;124mInvalid Message:\u001b[39m\u001b[38;5;124m\"\u001b[39m, exc_info\u001b[38;5;241m=\u001b[39m\u001b[38;5;28;01mTrue\u001b[39;00m)\n",
      "\u001b[1;31mKeyboardInterrupt\u001b[0m: Interrupted by user"
     ]
    }
   ],
   "source": [
    "gasp13 = input(\"Quantos Botijões de P13 tem na Base?\")\n",
    "vasip13 = input(\"Quantos Vasilhames de Botijão vazio de P13 tem na Base?\")\n",
    "agua2022 = input(\"Quantos Galões de Água 2022 Cheios tem na base?\")\n",
    "agua2023 = input(\"Quantos Galões de Água 2023 Cheios tem na base?\")\n",
    "agua2024= input(\"Quantos Galões de Água 2024 Cheios tem na base?\")\n",
    "agua2025 = input(\"Quantos Galões de Água 2025 Cheios tem na base?\")\n",
    "\n",
    "if gasp13 and vasip13 and agua2022 and agua2023 and agua2024 and agua2025:\n",
    "    gasp13 = int(gasp13)\n",
    "    vasip13 = int(vasip13)\n",
    "    agua2022 = int(agua2022) \n",
    "    agua2023 = int(agua2023)\n",
    "    agua2024 = int(agua2024)\n",
    "    agua2025 = int(agua2025)\n",
    "    if gasp13 < 60:\n",
    "        print(\"Solicitar {} Recargas de Gas à equipe de compras, temos apenas {} unidades em estoque\".format((120-gasp13),gasp13))\n",
    "    if vasip13 > 60:\n",
    "        print(\"Solicitar {} Recargas de Gas à equipe de compras, temos apenas {} unidades em estoque\".format((60-vasip13),vasip13))\n",
    "    if agua2022 < 30:\n",
    "        print(\"Solicitar {} Recargas de Gas à equipe de compras, temos apenas {} unidades em estoque\".format((30-agua2022),agua2022))\n",
    "    if agua2023 < 30:\n",
    "        print(\"Solicitar {} Recargas de Gas à equipe de compras, temos apenas {} unidades em estoque\".format((30-agua2023),agua2023))\n",
    "    if agua2024 < 30:\n",
    "        print(\"Solicitar {} Recargas de Gas à equipe de compras, temos apenas {} unidades em estoque\".format((30-agua2024),agua2024))\n",
    "    if agua2025 < 30:\n",
    "        print(\"Solicitar {} Recargas de Gas à equipe de compras, temos apenas {} unidades em estoque\".format((30-agua2025),agua2025))"
   ]
  },
  {
   "cell_type": "raw",
   "id": "61bfe7a9",
   "metadata": {},
   "source": []
  },
  {
   "cell_type": "code",
   "execution_count": null,
   "id": "fd2ae5ac",
   "metadata": {},
   "outputs": [],
   "source": [
    "cpf = input(\"Insira seu CPF(digite apenas os numeros)\")\n",
    "if len(cpf) == 11 and cpf.isnumeric():\n",
    "    print(cpf)\n",
    "else:\n",
    "    print(\"Digite os numeros corretamente e digite somente os numeros\")\n",
    "\n",
    "    "
   ]
  },
  {
   "cell_type": "code",
   "execution_count": null,
   "id": "cd85226d",
   "metadata": {},
   "outputs": [],
   "source": []
  },
  {
   "cell_type": "code",
   "execution_count": null,
   "id": "7f934da6",
   "metadata": {},
   "outputs": [],
   "source": [
    "cpf = input(\"Insira seu CPF\")\n",
    "\n",
    "#tratar o cpf\n",
    "\n",
    "#tirar espaços no inicio e no final\n",
    "cpf = cpf.strip()\n",
    "\n",
    "#retirar os pontos \n",
    "cpf = cpf.replace(\".\",\"\")\n",
    "#retirar o traço\n",
    "cpf = cpf.replace(\"-\",\"\")\n",
    "\n",
    "\n",
    "\n",
    "if len(cpf) == 11 and cpf.isnumeric():\n",
    "    print(cpf)\n",
    "else:\n",
    "    print(\"Digite os numeros corretamente e digite somente os numeros\")"
   ]
  },
  {
   "cell_type": "code",
   "execution_count": null,
   "id": "7b18cada",
   "metadata": {},
   "outputs": [],
   "source": []
  },
  {
   "cell_type": "code",
   "execution_count": 14,
   "id": "7c7003af",
   "metadata": {},
   "outputs": [
    {
     "name": "stdout",
     "output_type": "stream",
     "text": [
      "Digite o seu nomehugo\n",
      "Digite seu emailhugo@gmail.com\n",
      "Cadastro concluido\n",
      "@gmail.com\n"
     ]
    }
   ],
   "source": [
    "nome = input(\"Digite o seu nome\")\n",
    "email = input(\"Digite seu email\")\n",
    "\n",
    "if nome and email:\n",
    "    pos_a = email.find(\"@\")\n",
    "    servidor = email[pos_a:]\n",
    "    if pos_a != -1 and \".\" in servidor:\n",
    "        print(\"Cadastro concluido\")\n",
    "        print(servidor)\n",
    "    else:\n",
    "        print(\"Email invalido\")\n",
    "else:\n",
    "    print(\"Digite seu nome e e-mail corretamente\")    "
   ]
  },
  {
   "cell_type": "code",
   "execution_count": null,
   "id": "ec449299",
   "metadata": {},
   "outputs": [],
   "source": []
  },
  {
   "cell_type": "code",
   "execution_count": null,
   "id": "8418e749",
   "metadata": {},
   "outputs": [],
   "source": []
  }
 ],
 "metadata": {
  "kernelspec": {
   "display_name": "Python 3 (ipykernel)",
   "language": "python",
   "name": "python3"
  },
  "language_info": {
   "codemirror_mode": {
    "name": "ipython",
    "version": 3
   },
   "file_extension": ".py",
   "mimetype": "text/x-python",
   "name": "python",
   "nbconvert_exporter": "python",
   "pygments_lexer": "ipython3",
   "version": "3.9.12"
  }
 },
 "nbformat": 4,
 "nbformat_minor": 5
}
