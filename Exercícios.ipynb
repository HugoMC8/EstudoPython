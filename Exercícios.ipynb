{
 "cells": [
  {
   "cell_type": "code",
   "execution_count": null,
   "id": "9cc14373",
   "metadata": {},
   "outputs": [],
   "source": [
    "gasp13 = input(\"Quantos Botijões de P13 tem na Base?\")\n",
    "vasip13 = input(\"Quantos Vasilhames de Botijão vazio de P13 tem na Base?\")\n",
    "agua2022 = input(\"Quantos Galões de Água 2022 Cheios tem na base?\")\n",
    "agua2023 = input(\"Quantos Galões de Água 2023 Cheios tem na base?\")\n",
    "agua2024= input(\"Quantos Galões de Água 2024 Cheios tem na base?\")\n",
    "agua2025 = input(\"Quantos Galões de Água 2025 Cheios tem na base?\")\n",
    "\n",
    "if gasp13 and vasip13 and agua2022 and agua2023 and agua2024 and agua2025:\n",
    "    gasp13 = int(gasp13)\n",
    "    vasip13 = int(vasip13)\n",
    "    agua2022 = int(agua2022) \n",
    "    agua2023 = int(agua2023)\n",
    "    agua2024 = int(agua2024)\n",
    "    agua2025 = int(agua2025)\n",
    "    if gasp13 < 60:\n",
    "        print(\"Solicitar {} Recargas de Gas à equipe de compras, temos apenas {} unidades em estoque\".format((120-gasp13),gasp13))\n",
    "    if vasip13 > 60:\n",
    "        print(\"Solicitar {} Recargas de Gas à equipe de compras, temos apenas {} unidades em estoque\".format((60-vasip13),vasip13))\n",
    "    if agua2022 < 30:\n",
    "        print(\"Solicitar {} Recargas de Gas à equipe de compras, temos apenas {} unidades em estoque\".format((30-agua2022),agua2022))\n",
    "    if agua2023 < 30:\n",
    "        print(\"Solicitar {} Recargas de Gas à equipe de compras, temos apenas {} unidades em estoque\".format((30-agua2023),agua2023))\n",
    "    if agua2024 < 30:\n",
    "        print(\"Solicitar {} Recargas de Gas à equipe de compras, temos apenas {} unidades em estoque\".format((30-agua2024),agua2024))\n",
    "    if agua2025 < 30:\n",
    "        print(\"Solicitar {} Recargas de Gas à equipe de compras, temos apenas {} unidades em estoque\".format((30-agua2025),agua2025))"
   ]
  },
  {
   "cell_type": "raw",
   "id": "61bfe7a9",
   "metadata": {},
   "source": []
  },
  {
   "cell_type": "code",
   "execution_count": null,
   "id": "fd2ae5ac",
   "metadata": {},
   "outputs": [],
   "source": [
    "cpf = input(\"Insira seu CPF(digite apenas os numeros)\")\n",
    "if len(cpf) == 11 and cpf.isnumeric():\n",
    "    print(cpf)\n",
    "else:\n",
    "    print(\"Digite os numeros corretamente e digite somente os numeros\")\n",
    "\n",
    "    "
   ]
  },
  {
   "cell_type": "code",
   "execution_count": null,
   "id": "cd85226d",
   "metadata": {},
   "outputs": [],
   "source": []
  },
  {
   "cell_type": "code",
   "execution_count": null,
   "id": "7f934da6",
   "metadata": {},
   "outputs": [],
   "source": [
    "cpf = input(\"Insira seu CPF\")\n",
    "\n",
    "#tratar o cpf\n",
    "\n",
    "#tirar espaços no inicio e no final\n",
    "cpf = cpf.strip()\n",
    "\n",
    "#retirar os pontos \n",
    "cpf = cpf.replace(\".\",\"\")\n",
    "#retirar o traço\n",
    "cpf = cpf.replace(\"-\",\"\")\n",
    "\n",
    "\n",
    "\n",
    "if len(cpf) == 11 and cpf.isnumeric():\n",
    "    print(cpf)\n",
    "else:\n",
    "    print(\"Digite os numeros corretamente e digite somente os numeros\")"
   ]
  },
  {
   "cell_type": "code",
   "execution_count": null,
   "id": "7b18cada",
   "metadata": {},
   "outputs": [],
   "source": []
  },
  {
   "cell_type": "code",
   "execution_count": 14,
   "id": "7c7003af",
   "metadata": {},
   "outputs": [
    {
     "name": "stdout",
     "output_type": "stream",
     "text": [
      "Digite o seu nomehugo\n",
      "Digite seu emailhugo@gmail.com\n",
      "Cadastro concluido\n",
      "@gmail.com\n"
     ]
    }
   ],
   "source": [
    "nome = input(\"Digite o seu nome\")\n",
    "email = input(\"Digite seu email\")\n",
    "\n",
    "if nome and email:\n",
    "    pos_a = email.find(\"@\")\n",
    "    servidor = email[pos_a:]\n",
    "    if pos_a != -1 and \".\" in servidor:\n",
    "        print(\"Cadastro concluido\")\n",
    "        print(servidor)\n",
    "    else:\n",
    "        print(\"Email invalido\")\n",
    "else:\n",
    "    print(\"Digite seu nome e e-mail corretamente\")    "
   ]
  },
  {
   "cell_type": "code",
   "execution_count": null,
   "id": "ec449299",
   "metadata": {},
   "outputs": [],
   "source": []
  },
  {
   "cell_type": "code",
   "execution_count": null,
   "id": "8418e749",
   "metadata": {},
   "outputs": [],
   "source": []
  }
 ],
 "metadata": {
  "kernelspec": {
   "display_name": "Python 3 (ipykernel)",
   "language": "python",
   "name": "python3"
  },
  "language_info": {
   "codemirror_mode": {
    "name": "ipython",
    "version": 3
   },
   "file_extension": ".py",
   "mimetype": "text/x-python",
   "name": "python",
   "nbconvert_exporter": "python",
   "pygments_lexer": "ipython3",
   "version": "3.9.12"
  }
 },
 "nbformat": 4,
 "nbformat_minor": 5
}
