{
 "cells": [
  {
   "cell_type": "code",
   "execution_count": null,
   "id": "9cc14373",
   "metadata": {},
   "outputs": [],
   "source": [
    "gasp13 = input(\"Quantos Botijões de P13 tem na Base?\")\n",
    "vasip13 = input(\"Quantos Vasilhames de Botijão vazio de P13 tem na Base?\")\n",
    "agua2022 = input(\"Quantos Galões de Água 2022 Cheios tem na base?\")\n",
    "agua2023 = input(\"Quantos Galões de Água 2023 Cheios tem na base?\")\n",
    "agua2024= input(\"Quantos Galões de Água 2024 Cheios tem na base?\")\n",
    "agua2025 = input(\"Quantos Galões de Água 2025 Cheios tem na base?\")\n",
    "\n",
    "if gasp13 and vasip13 and agua2022 and agua2023 and agua2024 and agua2025:\n",
    "    gasp13 = int(gasp13)\n",
    "    vasip13 = int(vasip13)\n",
    "    agua2022 = int(agua2022) \n",
    "    agua2023 = int(agua2023)\n",
    "    agua2024 = int(agua2024)\n",
    "    agua2025 = int(agua2025)\n",
    "    if gasp13 < 60:\n",
    "        print(\"Solicitar {} Recargas de Gas à equipe de compras, temos apenas {} unidades em estoque\".format((120-gasp13),gasp13))\n",
    "    if vasip13 > 60:\n",
    "        print(\"Solicitar {} Recargas de Gas à equipe de compras, temos apenas {} unidades em estoque\".format((60-vasip13),vasip13))\n",
    "    if agua2022 < 30:\n",
    "        print(\"Solicitar {} Recargas de Gas à equipe de compras, temos apenas {} unidades em estoque\".format((30-agua2022),agua2022))\n",
    "    if agua2023 < 30:\n",
    "        print(\"Solicitar {} Recargas de Gas à equipe de compras, temos apenas {} unidades em estoque\".format((30-agua2023),agua2023))\n",
    "    if agua2024 < 30:\n",
    "        print(\"Solicitar {} Recargas de Gas à equipe de compras, temos apenas {} unidades em estoque\".format((30-agua2024),agua2024))\n",
    "    if agua2025 < 30:\n",
    "        print(\"Solicitar {} Recargas de Gas à equipe de compras, temos apenas {} unidades em estoque\".format((30-agua2025),agua2025))"
   ]
  },
  {
   "cell_type": "raw",
   "id": "61bfe7a9",
   "metadata": {},
   "source": []
  },
  {
   "cell_type": "code",
   "execution_count": null,
   "id": "fd2ae5ac",
   "metadata": {},
   "outputs": [],
   "source": [
    "cpf = input(\"Insira seu CPF(digite apenas os numeros)\")\n",
    "if len(cpf) == 11 and cpf.isnumeric():\n",
    "    print(cpf)\n",
    "else:\n",
    "    print(\"Digite os numeros corretamente e digite somente os numeros\")\n",
    "\n",
    "    "
   ]
  },
  {
   "cell_type": "code",
   "execution_count": null,
   "id": "cd85226d",
   "metadata": {},
   "outputs": [],
   "source": []
  },
  {
   "cell_type": "code",
   "execution_count": null,
   "id": "7f934da6",
   "metadata": {},
   "outputs": [],
   "source": [
    "cpf = input(\"Insira seu CPF\")\n",
    "\n",
    "#tratar o cpf\n",
    "\n",
    "#tirar espaços no inicio e no final\n",
    "cpf = cpf.strip()\n",
    "\n",
    "#retirar os pontos \n",
    "cpf = cpf.replace(\".\",\"\")\n",
    "#retirar o traço\n",
    "cpf = cpf.replace(\"-\",\"\")\n",
    "\n",
    "\n",
    "\n",
    "if len(cpf) == 11 and cpf.isnumeric():\n",
    "    print(cpf)\n",
    "else:\n",
    "    print(\"Digite os numeros corretamente e digite somente os numeros\")"
   ]
  },
  {
   "cell_type": "code",
   "execution_count": null,
   "id": "7b18cada",
   "metadata": {},
   "outputs": [],
   "source": []
  },
  {
   "cell_type": "code",
   "execution_count": 14,
   "id": "7c7003af",
   "metadata": {},
   "outputs": [
    {
     "name": "stdout",
     "output_type": "stream",
     "text": [
      "Digite o seu nomehugo\n",
      "Digite seu emailhugo@gmail.com\n",
      "Cadastro concluido\n",
      "@gmail.com\n"
     ]
    }
   ],
   "source": [
    "nome = input(\"Digite o seu nome\")\n",
    "email = input(\"Digite seu email\")\n",
    "\n",
    "if nome and email:\n",
    "    pos_a = email.find(\"@\")\n",
    "    servidor = email[pos_a:]\n",
    "    if pos_a != -1 and \".\" in servidor:\n",
    "        print(\"Cadastro concluido\")\n",
    "        print(servidor)\n",
    "    else:\n",
    "        print(\"Email invalido\")\n",
    "else:\n",
    "    print(\"Digite seu nome e e-mail corretamente\")    "
   ]
  },
  {
   "cell_type": "code",
   "execution_count": null,
   "id": "ec449299",
   "metadata": {},
   "outputs": [],
   "source": []
  },
  {
   "cell_type": "code",
   "execution_count": 38,
   "id": "8418e749",
   "metadata": {},
   "outputs": [
    {
     "name": "stdout",
     "output_type": "stream",
     "text": [
      "['jan', 'fev', 'mar', 'abr', 'mai', 'jun', 'jul', 'ago', 'set', 'out', 'nov', 'dez']\n",
      "12\n",
      "6\n",
      "6\n",
      "[80000, 90000, 100000, 90000, 80000, 90000, 100000, 90000, 85000, 95000, 105000, 115000]\n",
      "12\n",
      "O melhor mês foi dez com 115,000.00 reais em vendas\n",
      "O pior mês foi jan com 80,000.00 reais em vendas\n",
      "O faturamento total foi de: R$ 1,120,000.00\n",
      "O melhor mês representou 10.27% das vendas do ano!\n"
     ]
    }
   ],
   "source": [
    "meses = [\"jan\", \"fev\", \"mar\", \"abr\", \"mai\", \"jun\", \"jul\", \"ago\",\"set\",\"out\", \"nov\", \"dez\"]\n",
    "print(meses)\n",
    "print (len(meses))\n",
    "\n",
    "vendas_1sem = [80000, 90000, 100000, 90000, 80000, 90000]\n",
    "vendas_2sem = [100000, 90000, 85000, 95000, 105000, 115000]\n",
    "print (len(vendas_1sem))\n",
    "print (len(vendas_2sem))\n",
    "vendas_ano = vendas_1sem + vendas_2sem\n",
    "print(vendas_ano)\n",
    "print (len(vendas_ano))\n",
    "\n",
    "print(\"O melhor mês foi {} com {:,.2f} reais em vendas\".format(meses[vendas_ano.index(max(vendas_ano))], max(vendas_ano)))\n",
    "print(\"O pior mês foi {} com {:,.2f} reais em vendas\".format(meses[vendas_ano.index(min(vendas_ano))], min(vendas_ano)))\n",
    "\n",
    "# para somar todos os valores de uma lista podemos utilizar a função sum(lista)\n",
    "\n",
    "vendas_tot = sum(vendas_ano)\n",
    "print(\"O faturamento total foi de: R$ {:,.2f}\".format(vendas_tot))\n",
    "\n",
    "percentual = max(vendas_ano) / vendas_tot\n",
    "print(\"O melhor mês representou {:.2%} das vendas do ano!\".format(percentual))"
   ]
  },
  {
   "cell_type": "markdown",
   "id": "8467258c",
   "metadata": {},
   "source": [
    "## Criando uma lista com nome e cpf das pessoas que retiraram vale gas no dia!"
   ]
  },
  {
   "cell_type": "code",
   "execution_count": 44,
   "id": "2a6abbaa",
   "metadata": {},
   "outputs": [
    {
     "name": "stdout",
     "output_type": "stream",
     "text": [
      "quantos vales foram resgatados?2\n",
      "2\n",
      "Qual o nome do solicitante?1123\n",
      "Qual o cpf do solicitante?123\n",
      "Qual o numero do voucher?213\n",
      "Qual o nome do solicitante?123\n",
      "Qual o cpf do solicitante?1236\n",
      "Qual o numero do voucher?123\n",
      "[['1123', '123', '213'], ['123', '1236', '123']]\n"
     ]
    }
   ],
   "source": [
    "qtd_vale = int(input(\"quantos vales foram resgatados?\"))\n",
    "print(qtd_vale)\n",
    "vale = []\n",
    "\n",
    "for i in range (qtd_vale):\n",
    "    nome = input(\"Qual o nome do solicitante?\")\n",
    "    cpf = input(\"Qual o cpf do solicitante?\")\n",
    "    voucher = input(\"Qual o numero do voucher?\")\n",
    "    cliente = [nome, cpf, voucher]\n",
    "    vale.append(cliente)\n",
    "    \n",
    "print(vale)"
   ]
  },
  {
   "cell_type": "code",
   "execution_count": 54,
   "id": "2d4a182f",
   "metadata": {},
   "outputs": [
    {
     "name": "stdout",
     "output_type": "stream",
     "text": [
      "O funcionario andre bateu a meta de venda, vendeu 100000 e a meta era de 100000\n",
      "O funcionario maria bateu a meta de venda, vendeu 120000 e a meta era de 100000\n"
     ]
    }
   ],
   "source": [
    "meta = 100000\n",
    "vendas = [\n",
    "    [\"andre\", 100000],\n",
    "    [\"joao\", 90000],\n",
    "    [\"maria\", 120000],\n",
    "    [\"pedro\",8000],\n",
    "    [\"felie\",95000],\n",
    "]\n",
    "\n",
    "for item in vendas:\n",
    "    if item[1] >= meta:\n",
    "        print(\"O funcionario {} bateu a meta de venda, vendeu {} e a meta era de {}\".format(item[0],item[1],meta))"
   ]
  },
  {
   "cell_type": "code",
   "execution_count": 63,
   "id": "2e64fa7a",
   "metadata": {},
   "outputs": [
    {
     "name": "stdout",
     "output_type": "stream",
     "text": [
      "O produto1, teve aumento nas vendas entre 2019 e 2020, o aumento foi de 204.00%\n",
      "O produto2, teve aumento nas vendas entre 2019 e 2020, o aumento foi de 127.38%\n",
      "O produto5, teve aumento nas vendas entre 2019 e 2020, o aumento foi de 266.67%\n",
      "O produto6, teve aumento nas vendas entre 2019 e 2020, o aumento foi de 617.65%\n",
      "O produto7, teve aumento nas vendas entre 2019 e 2020, o aumento foi de 107.69%\n"
     ]
    }
   ],
   "source": [
    "produtos = [\"produto1\", \"produto2\", \"produto3\", \"produto4\", \"produto5\", \"produto6\", \"produto7\", \"produto8\"]\n",
    "vendas_2019 = [50, 84, 71, 92, 18, 17, 26, 54]\n",
    "vendas_2020 = [102, 107, 27, 19, 48, 105, 28, 17]\n",
    "\n",
    "for i, produto in enumerate(produtos):\n",
    "    if vendas_2020[i] > vendas_2019[i]:\n",
    "        print(\"O {}, teve aumento nas vendas entre 2019 e 2020, o aumento foi de {:.2%}\".format(produto,(vendas_2020[i]/vendas_2019[i])))"
   ]
  },
  {
   "cell_type": "code",
   "execution_count": 62,
   "id": "b3e742b2",
   "metadata": {},
   "outputs": [
    {
     "name": "stdout",
     "output_type": "stream",
     "text": [
      "O produto1, teve aumento nas vendas entre 2019 e 2020, o aumento foi de 204.00%\n",
      "O produto2, teve aumento nas vendas entre 2019 e 2020, o aumento foi de 127.38%\n",
      "O produto5, teve aumento nas vendas entre 2019 e 2020, o aumento foi de 266.67%\n",
      "O produto6, teve aumento nas vendas entre 2019 e 2020, o aumento foi de 617.65%\n",
      "O produto7, teve aumento nas vendas entre 2019 e 2020, o aumento foi de 107.69%\n"
     ]
    }
   ],
   "source": [
    "# tambem e possivel fazer sem o enumerate\n",
    "produtos = [\"produto1\", \"produto2\", \"produto3\", \"produto4\", \"produto5\", \"produto6\", \"produto7\", \"produto8\"]\n",
    "vendas_2019 = [50, 84, 71, 92, 18, 17, 26, 54]\n",
    "vendas_2020 = [102, 107, 27, 19, 48, 105, 28, 17]\n",
    "\n",
    "for i in range(len(produtos)):\n",
    "    if vendas_2020[i] > vendas_2019[i]:\n",
    "        print(\"O {}, teve aumento nas vendas entre 2019 e 2020, o aumento foi de {:.2%}\".format(produtos[i],(vendas_2020[i]/vendas_2019[i])))"
   ]
  },
  {
   "cell_type": "markdown",
   "id": "d1df24ef",
   "metadata": {},
   "source": [
    "## for dentro de for"
   ]
  },
  {
   "cell_type": "code",
   "execution_count": 73,
   "id": "1298f7c3",
   "metadata": {},
   "outputs": [
    {
     "name": "stdout",
     "output_type": "stream",
     "text": [
      "As vendas do mês Maio do ano 2017 foram de 18 e não bateram a meta que era de 50\n",
      "As vendas do mês Junho do ano 2017 foram de 17 e não bateram a meta que era de 50\n",
      "As vendas do mês Julho do ano 2017 foram de 26 e não bateram a meta que era de 50\n",
      "As vendas do mês Marco do ano 2018 foram de 27 e não bateram a meta que era de 50\n",
      "As vendas do mês Abril do ano 2018 foram de 19 e não bateram a meta que era de 50\n",
      "As vendas do mês Maio do ano 2018 foram de 48 e não bateram a meta que era de 50\n",
      "As vendas do mês Julho do ano 2018 foram de 28 e não bateram a meta que era de 50\n",
      "As vendas do mês Agosto do ano 2018 foram de 17 e não bateram a meta que era de 50\n",
      "As vendas do mês Dezembro do ano 2018 foram de 41 e não bateram a meta que era de 50\n",
      "As vendas do mês Janeiro do ano 2019 foram de 25 e não bateram a meta que era de 50\n",
      "As vendas do mês Fevereiro do ano 2019 foram de 41 e não bateram a meta que era de 50\n",
      "As vendas do mês Abril do ano 2019 foram de 48 e não bateram a meta que era de 50\n",
      "As vendas do mês Julho do ano 2019 foram de 35 e não bateram a meta que era de 50\n",
      "As vendas do mês Agosto do ano 2019 foram de 26 e não bateram a meta que era de 50\n",
      "As vendas do mês Novembro do ano 2019 foram de 41 e não bateram a meta que era de 50\n",
      "As vendas do mês Dezembro do ano 2019 foram de 25 e não bateram a meta que era de 50\n",
      "As vendas do mês Janeiro do ano 2020 foram de 15 e não bateram a meta que era de 50\n",
      "As vendas do mês Fevereiro do ano 2020 foram de 17 e não bateram a meta que era de 50\n",
      "As vendas do mês Marco do ano 2020 foram de 48 e não bateram a meta que era de 50\n",
      "As vendas do mês Outubro do ano 2020 foram de 15 e não bateram a meta que era de 50\n",
      "As vendas do mês Novembro do ano 2020 foram de 42 e não bateram a meta que era de 50\n",
      "As vendas do mês Janeiro do ano 2021 foram de 5 e não bateram a meta que era de 50\n",
      "As vendas do mês Junho do ano 2021 foram de 41 e não bateram a meta que era de 50\n",
      "As vendas do mês Dezembro do ano 2021 foram de 41 e não bateram a meta que era de 50\n"
     ]
    }
   ],
   "source": [
    "vendas_total = [\n",
    "    [50, 84, 71, 92, 18, 17, 26, 54, 54, 75, 85, 64],\n",
    "    [102, 107, 27, 19, 48, 105, 28, 17, 52, 53, 62, 41],\n",
    "    [25, 41, 57, 48, 75, 96, 35, 26, 51, 71, 41, 25],\n",
    "    [15, 17, 48, 75, 76, 92, 108, 52, 91, 15, 42, 62],\n",
    "    [5, 83, 92, 72, 85, 41, 52, 96, 52, 53, 62, 41],\n",
    "]\n",
    "meses = [\"Janeiro\", \"Fevereiro\", \"Marco\", \"Abril\", \"Maio\", \"Junho\", \"Julho\", \"Agosto\", \"Setembro\", \"Outubro\", \"Novembro\", \"Dezembro\"]\n",
    "anos = [2017, 2018, 2019, 2020, 2021]\n",
    "meta = 50\n",
    "\n",
    "\n",
    "for i, vendas_ano in enumerate (vendas_total):\n",
    "    for j, venda in enumerate (vendas_ano):\n",
    "        if venda < meta:\n",
    "            print(\"As vendas do mês {} do ano {} foram de {} e não bateram a meta que era de {}\".format(meses[j],anos[i],venda,meta))\n",
    "        "
   ]
  },
  {
   "cell_type": "code",
   "execution_count": 85,
   "id": "fae70076",
   "metadata": {},
   "outputs": [
    {
     "name": "stdout",
     "output_type": "stream",
     "text": [
      "33.33% dos vendedores bateram a meta\n"
     ]
    }
   ],
   "source": [
    "meta = 100000\n",
    "vendas = [\n",
    "    [\"andre\", 100000],\n",
    "    [\"joao\", 90000],\n",
    "    [\"maria\", 120000],\n",
    "    [\"pedro\",8000],\n",
    "    [\"felie\",95000],\n",
    "    [\"paulo\", 11000],\n",
    "]\n",
    "cont = 0\n",
    "for venda in vendas:\n",
    "    if venda[1] >= meta:\n",
    "        cont += 1\n",
    "\n",
    "  \n",
    "print(\"{:.2%} dos vendedores bateram a meta\".format(cont / len(vendas)))\n"
   ]
  },
  {
   "cell_type": "code",
   "execution_count": 90,
   "id": "851d3109",
   "metadata": {},
   "outputs": [
    {
     "name": "stdout",
     "output_type": "stream",
     "text": [
      "A melhor venda foi de R$ 108 no mês de Julho do ano 2020\n"
     ]
    }
   ],
   "source": [
    "vendas_total = [\n",
    "    [50, 84, 71, 92, 18, 17, 26, 54, 54, 75, 85, 64],\n",
    "    [102, 107, 27, 19, 48, 105, 28, 17, 52, 53, 62, 41],\n",
    "    [25, 41, 57, 48, 75, 96, 35, 26, 51, 71, 41, 25],\n",
    "    [15, 17, 48, 75, 76, 92, 108, 52, 91, 15, 42, 62],\n",
    "    [5, 83, 92, 72, 85, 41, 52, 96, 52, 53, 62, 41],\n",
    "]\n",
    "meses = [\"Janeiro\", \"Fevereiro\", \"Marco\", \"Abril\", \"Maio\", \"Junho\", \"Julho\", \"Agosto\", \"Setembro\", \"Outubro\", \"Novembro\", \"Dezembro\"]\n",
    "anos = [2017, 2018, 2019, 2020, 2021]\n",
    "maior_venda = 0\n",
    "#descobrir e printar o melhor mes do melhor ano e quanto foi a venda\n",
    "\n",
    "for i, vendas in enumerate(vendas_total):\n",
    "    for j, venda in enumerate(vendas):\n",
    "        if venda > maior_venda:\n",
    "            maior_venda = venda\n",
    "            i_maiorvenda = i\n",
    "            j_maiorvenda = j\n",
    "print(\"A melhor venda foi de R$ {} no mês de {} do ano {}\".format(maior_venda,meses[j_maiorvenda],anos[i_maiorvenda]))"
   ]
  },
  {
   "cell_type": "markdown",
   "id": "661fcd9f",
   "metadata": {},
   "source": [
    "## interrompendo um for"
   ]
  },
  {
   "cell_type": "markdown",
   "id": "ca002c0e",
   "metadata": {},
   "source": [
    "break --->  interrompe e finaliza o for \n",
    "\n",
    "\n",
    "continue --->  interrompe e vai para o proximo item do for"
   ]
  },
  {
   "cell_type": "markdown",
   "id": "33265160",
   "metadata": {},
   "source": [
    "## Exercicio while"
   ]
  },
  {
   "cell_type": "code",
   "execution_count": 93,
   "id": "ceb6d11c",
   "metadata": {},
   "outputs": [
    {
     "name": "stdout",
     "output_type": "stream",
     "text": [
      "Qual o produto?maca\n",
      "Qual o valor?5\n",
      "Qual o produto?banana\n",
      "Qual o valor?3\n",
      "Qual o produto?\n",
      "[['maca', 5], ['banana', 3]]\n"
     ]
    }
   ],
   "source": [
    "vendas = []\n",
    "\n",
    "while True:\n",
    "    produto = input(\"Qual o produto?\")\n",
    "    if not produto:\n",
    "        break\n",
    "    valor = int(input(\"Qual o valor?\"))\n",
    "    vendas.append([produto,valor])\n",
    "\n",
    "print(vendas)"
   ]
  },
  {
   "cell_type": "code",
   "execution_count": null,
   "id": "724ffc5d",
   "metadata": {},
   "outputs": [],
   "source": []
  }
 ],
 "metadata": {
  "kernelspec": {
   "display_name": "Python 3 (ipykernel)",
   "language": "python",
   "name": "python3"
  },
  "language_info": {
   "codemirror_mode": {
    "name": "ipython",
    "version": 3
   },
   "file_extension": ".py",
   "mimetype": "text/x-python",
   "name": "python",
   "nbconvert_exporter": "python",
   "pygments_lexer": "ipython3",
   "version": "3.9.12"
  }
 },
 "nbformat": 4,
 "nbformat_minor": 5
}
