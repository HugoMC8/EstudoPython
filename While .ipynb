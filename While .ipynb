{
 "cells": [
  {
   "cell_type": "raw",
   "id": "3466223a",
   "metadata": {},
   "source": [
    "Estrutura do while\n",
    "\n",
    "while condição:\n",
    "    repetir o que estiver indentado no while\n",
    "    \n",
    "  "
   ]
  },
  {
   "cell_type": "code",
   "execution_count": null,
   "id": "5dcbe4db",
   "metadata": {},
   "outputs": [],
   "source": [
    "venda = input(\"Registre o produto. Para finalizar basta apertar enter com a caixa vazia\")\n",
    "vendas = []\n",
    "while venda != \"\":\n",
    "    vendas.append(venda)\n",
    "    venda = input(\"Registre o produto. Para finalizar basta apertar enter com a caixa vazia\")\n",
    "print(\"Registro de produtos finalizado. Os produtor registrados foram: {}\".format(vendas))\n"
   ]
  },
  {
   "cell_type": "markdown",
   "id": "eddebe75",
   "metadata": {},
   "source": [
    "## cuidado com o while para nao cair em um lop infinito"
   ]
  },
  {
   "cell_type": "code",
   "execution_count": 10,
   "id": "46eaeac9",
   "metadata": {},
   "outputs": [
    {
     "name": "stdout",
     "output_type": "stream",
     "text": [
      "No mes Janeiro batemos a meta!\n",
      "No mes Fevereiro batemos a meta!\n",
      "No mes Marco batemos a meta!\n",
      "No mes Abril batemos a meta!\n",
      "No mes Maio batemos a meta!\n"
     ]
    }
   ],
   "source": [
    "vendas = [120000, 120000, 120000, 110000, 110000, 100000, 100000, 100000, 90000, 90000, 80000, 80000] # já se encontra em ordem decrescente\n",
    "meses = [\"Janeiro\", \"Fevereiro\", \"Marco\", \"Abril\", \"Maio\", \"Junho\", \"Julho\", \"Agosto\", \"Setembro\", \"Outubro\", \"Novembro\", \"Dezembro\"]\n",
    "meta = 100000\n",
    "i = 0\n",
    "\n",
    "# while vendas[i] > meta:\n",
    "#    print(\"No mes {} batemos a meta!\")\n",
    "\n",
    "# assim criaria um loop infinito pq o [i] e sempre 1\n",
    "\n",
    "while vendas[i] > meta:\n",
    "    print(\"No mes {} batemos a meta!\".format(meses[i]))\n",
    "    i += 1"
   ]
  },
  {
   "cell_type": "code",
   "execution_count": null,
   "id": "2f8b5739",
   "metadata": {},
   "outputs": [],
   "source": []
  }
 ],
 "metadata": {
  "kernelspec": {
   "display_name": "Python 3 (ipykernel)",
   "language": "python",
   "name": "python3"
  },
  "language_info": {
   "codemirror_mode": {
    "name": "ipython",
    "version": 3
   },
   "file_extension": ".py",
   "mimetype": "text/x-python",
   "name": "python",
   "nbconvert_exporter": "python",
   "pygments_lexer": "ipython3",
   "version": "3.9.12"
  }
 },
 "nbformat": 4,
 "nbformat_minor": 5
}
