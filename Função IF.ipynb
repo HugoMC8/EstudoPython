{
 "cells": [
  {
   "cell_type": "code",
   "execution_count": 1,
   "id": "79e7b6dd",
   "metadata": {},
   "outputs": [
    {
     "name": "stdout",
     "output_type": "stream",
     "text": [
      "Não batemos a meta em -100 unidades, a meta era de 1000 unidades\n"
     ]
    }
   ],
   "source": [
    "meta = 1000\n",
    "qtd_vendida = 900\n",
    "\n",
    "if qtd_vendida >= meta:\n",
    "    print (\"Batemos a meta em {} unidades, a meta era de {} unidades\" .format(qtd_vendida - meta, meta))\n",
    "else:\n",
    "    print (\"Não batemos a meta em {} unidades, a meta era de {} unidades\" .format(qtd_vendida - meta, meta))"
   ]
  },
  {
   "cell_type": "code",
   "execution_count": 2,
   "id": "fb59fd98",
   "metadata": {},
   "outputs": [
    {
     "name": "stdout",
     "output_type": "stream",
     "text": [
      "A taxa aplicada foi de 0\n"
     ]
    }
   ],
   "source": [
    "meta = 0.05\n",
    "taxa = 0\n",
    "rendimento = 0.03\n",
    "\n",
    "\n",
    "if rendimento > meta:\n",
    "    if rendimento > 0.20:\n",
    "        taxa = 0.04\n",
    "        print (\"A taxa aplicada foi de {}\".format(taxa))\n",
    "    else:\n",
    "        taxa = 0.02\n",
    "        print (\"A taxa aplicada foi de {}\".format(taxa))\n",
    "else:\n",
    "    taxa = 0\n",
    "    print (\"A taxa aplicada foi de {}\".format(taxa))"
   ]
  },
  {
   "cell_type": "code",
   "execution_count": 3,
   "id": "ed520093",
   "metadata": {},
   "outputs": [
    {
     "name": "stdout",
     "output_type": "stream",
     "text": [
      "A taxa aplicada foi de 0.04\n"
     ]
    }
   ],
   "source": [
    "meta1 = 0.05\n",
    "meta2 = 0.20\n",
    "taxa = 0\n",
    "rendimento = 0.22\n",
    "\n",
    "\n",
    "if rendimento > meta2:\n",
    "    taxa = 0.04\n",
    "    print (\"A taxa aplicada foi de {}\".format(taxa))\n",
    "elif rendimento > meta1:\n",
    "    taxa = 0.02\n",
    "    print (\"A taxa aplicada foi de {}\".format(taxa))\n",
    "else:\n",
    "    taxa = 0\n",
    "    print (\"A taxa aplicada foi de {}\".format(taxa))"
   ]
  },
  {
   "cell_type": "markdown",
   "id": "102c5e82",
   "metadata": {},
   "source": [
    "## Comparadores "
   ]
  },
  {
   "cell_type": "raw",
   "id": "1277f6f5",
   "metadata": {},
   "source": [
    "==     igual\n",
    "!=     diferente\n",
    ">      maior que (>= maior ou igual)\n",
    "<      menor que (<= menor ou igual)\n",
    "in     texto existe dentro de outro texto\n",
    "not    verifica o contrario da comparação\n",
    "\n",
    "pass   em condições que não queira fazer nada"
   ]
  },
  {
   "cell_type": "raw",
   "id": "48cf3958",
   "metadata": {},
   "source": [
    "Podemos usar tambem o AND e o OR"
   ]
  },
  {
   "cell_type": "code",
   "execution_count": 4,
   "id": "ef68b336",
   "metadata": {},
   "outputs": [
    {
     "name": "stdout",
     "output_type": "stream",
     "text": [
      "Bonus do funcionário foi de 330.0\n"
     ]
    }
   ],
   "source": [
    "meta_funcionario = 10000\n",
    "meta_loja = 250000\n",
    "vendas_funcionários = 11000\n",
    "vendas_loja = 300000\n",
    "\n",
    "if vendas_funcionários > meta_funcionario and vendas_loja > meta_loja:\n",
    "    bonus = 0.03 * vendas_funcionários\n",
    "    print (\"Bonus do funcionário foi de {}\".format (bonus))\n",
    "else:\n",
    "    print (\"O funcionário não ganhou Bonus\")"
   ]
  },
  {
   "cell_type": "code",
   "execution_count": 7,
   "id": "f2678154",
   "metadata": {},
   "outputs": [
    {
     "name": "stdout",
     "output_type": "stream",
     "text": [
      "Bonus do funcionário foi de 240.0\n",
      "Bonus do funcionário foi de 600.0\n"
     ]
    }
   ],
   "source": [
    "meta_funcionario = 10000\n",
    "meta_loja = 250000\n",
    "vendas_funcionários = 8000 #vendas abaixo da meta\n",
    "vendas_loja = 200000 #vendas a baixo da meta\n",
    "nota_funcionario = 9 #nota igual ou superior a meta entao ganha bonus independente de meta de funcionario e meta de loja\n",
    "meta_nota_funcionario = 9\n",
    "\n",
    "if nota_funcionario >= meta_nota_funcionario or  (vendas_funcionários > meta_funcionario and vendas_loja > meta_loja):\n",
    "    bonus = 0.03 * vendas_funcionários\n",
    "    print (\"Bonus do funcionário foi de {}\".format (bonus))\n",
    "else:\n",
    "    print (\"O funcionário não ganhou Bonus\")\n",
    "    \n",
    "    \n",
    "meta_funcionario = 10000\n",
    "meta_loja = 250000\n",
    "vendas_funcionários = 20000 #vendas acima da meta\n",
    "vendas_loja = 300000 #vendas acima da meta\n",
    "nota_funcionario = 8 #nota a baixo da meta, entao so ganha bonus se ambos baterem a meta\n",
    "meta_nota_funcionario = 9\n",
    "\n",
    "if nota_funcionario >= meta_nota_funcionario or  (vendas_funcionários > meta_funcionario and vendas_loja > meta_loja):\n",
    "    bonus = 0.03 * vendas_funcionários\n",
    "    print (\"Bonus do funcionário foi de {}\".format (bonus))\n",
    "else:\n",
    "    print (\"O funcionário não ganhou Bonus\")"
   ]
  },
  {
   "cell_type": "code",
   "execution_count": null,
   "id": "b7129e8f",
   "metadata": {},
   "outputs": [],
   "source": []
  }
 ],
 "metadata": {
  "kernelspec": {
   "display_name": "Python 3 (ipykernel)",
   "language": "python",
   "name": "python3"
  },
  "language_info": {
   "codemirror_mode": {
    "name": "ipython",
    "version": 3
   },
   "file_extension": ".py",
   "mimetype": "text/x-python",
   "name": "python",
   "nbconvert_exporter": "python",
   "pygments_lexer": "ipython3",
   "version": "3.9.12"
  }
 },
 "nbformat": 4,
 "nbformat_minor": 5
}
