{
 "cells": [
  {
   "cell_type": "markdown",
   "id": "c165a47d",
   "metadata": {},
   "source": [
    "Meus primeiros Códigos em Python"
   ]
  },
  {
   "cell_type": "code",
   "execution_count": 14,
   "id": "d5234cd3",
   "metadata": {},
   "outputs": [
    {
     "name": "stdout",
     "output_type": "stream",
     "text": [
      "Hello World! Olá Mundo!\n",
      "caso queria imprimir um tesxo específico, utilizaremos dentro de aspas duplas\n",
      "ou se for um numero específico e fixo podemos colocar direto o numero como no exemplo abaixo\n",
      "99 21 21 345\n",
      "podemos tambem passar uma série de informações ao mesmo tempo 123 dessa forma por exemplo(separado por virgula)\n",
      "poderemos imprimir tambem o resultado de uma função ou o valor armazenado em uma variavel\n"
     ]
    }
   ],
   "source": [
    "print (\"Hello World! Olá Mundo!\") \n",
    "print(\"caso queria imprimir um tesxo específico, utilizaremos dentro de aspas duplas\")\n",
    "print(\"ou se for um numero específico e fixo podemos colocar direto o numero como no exemplo abaixo\")   \n",
    "print(99,21,21,345)\n",
    "print(\"podemos tambem passar uma série de informações ao mesmo tempo\", 123, \"dessa forma por exemplo(separado por virgula)\")\n",
    "print(\"poderemos imprimir tambem o resultado de uma função ou o valor armazenado em uma variavel\")\n"
   ]
  },
  {
   "cell_type": "code",
   "execution_count": 24,
   "id": "72cd93f0",
   "metadata": {},
   "outputs": [
    {
     "name": "stdout",
     "output_type": "stream",
     "text": [
      "1 + 1\n",
      "2\n",
      "2 * 2\n",
      "4\n",
      "3 / 3\n",
      "4 ** 4\n",
      "256\n",
      "visto as operações básicas, vamos ver as casas decimais\n",
      "2 / 3\n",
      "0.6666666666666666 aqui podemos ver que o Python utiliza como marcador de casa decimal o ponto final(.)\n"
     ]
    }
   ],
   "source": [
    "print(\"1 + 1\")\n",
    "print(1 + 1)\n",
    "print(\"2 * 2\")\n",
    "print(2*2)\n",
    "print(\"3 / 3\")\n",
    "print(\"4 ** 4\")\n",
    "print(4 ** 4)\n",
    "print(\"visto as operações básicas, vamos ver as casas decimais\")\n",
    "print(\"2 / 3\")\n",
    "print(2 / 3,\"aqui podemos ver que o Python utiliza como marcador de casa decimal o ponto final(.)\")"
   ]
  },
  {
   "cell_type": "code",
   "execution_count": null,
   "id": "15f443aa",
   "metadata": {},
   "outputs": [],
   "source": []
  }
 ],
 "metadata": {
  "kernelspec": {
   "display_name": "Python 3 (ipykernel)",
   "language": "python",
   "name": "python3"
  },
  "language_info": {
   "codemirror_mode": {
    "name": "ipython",
    "version": 3
   },
   "file_extension": ".py",
   "mimetype": "text/x-python",
   "name": "python",
   "nbconvert_exporter": "python",
   "pygments_lexer": "ipython3",
   "version": "3.9.12"
  }
 },
 "nbformat": 4,
 "nbformat_minor": 5
}
