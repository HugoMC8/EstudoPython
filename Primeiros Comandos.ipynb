{
 "cells": [
  {
   "cell_type": "markdown",
   "id": "5568a708",
   "metadata": {},
   "source": [
    "# Meus primeiros Códigos em Python"
   ]
  },
  {
   "cell_type": "code",
   "execution_count": 1,
   "id": "4497476b",
   "metadata": {},
   "outputs": [
    {
     "name": "stdout",
     "output_type": "stream",
     "text": [
      "Hello World! Olá Mundo!\n",
      "caso queria imprimir um tesxo específico, utilizaremos dentro de aspas duplas\n",
      "ou se for um numero específico e fixo podemos colocar direto o numero como no exemplo abaixo\n",
      "99 21 21 345\n",
      "podemos tambem passar uma série de informações ao mesmo tempo 123 dessa forma por exemplo(separado por virgula)\n",
      "poderemos imprimir tambem o resultado de uma função ou o valor armazenado em uma variavel\n"
     ]
    }
   ],
   "source": [
    "print (\"Hello World! Olá Mundo!\") \n",
    "print(\"caso queria imprimir um tesxo específico, utilizaremos dentro de aspas duplas\")\n",
    "print(\"ou se for um numero específico e fixo podemos colocar direto o numero como no exemplo abaixo\")   \n",
    "print(99,21,21,345)\n",
    "print(\"podemos tambem passar uma série de informações ao mesmo tempo\", 123, \"dessa forma por exemplo(separado por virgula)\")\n",
    "print(\"poderemos imprimir tambem o resultado de uma função ou o valor armazenado em uma variavel\")\n"
   ]
  },
  {
   "cell_type": "code",
   "execution_count": 2,
   "id": "1617ce5a",
   "metadata": {},
   "outputs": [
    {
     "name": "stdout",
     "output_type": "stream",
     "text": [
      "soma 1 + 1\n",
      "2\n",
      "multiplicação 2 * 2\n",
      "4\n",
      "divisão 3 / 3\n",
      "Eponencial4 ** 4\n",
      "256\n",
      "visto as operações básicas, vamos ver as casas decimais\n",
      "2 / 3\n",
      "0.6666666666666666 aqui podemos ver que o Python utiliza como marcador de casa decimal o ponto final(.)\n",
      "resto de uma divisão 7 % 3\n",
      "1  e o resto da divisão exata de 7 por 3\n"
     ]
    }
   ],
   "source": [
    "print(\"soma\",\"1 + 1\")\n",
    "print(1 + 1)\n",
    "print(\"multiplicação\",\"2 * 2\")\n",
    "print(2*2)\n",
    "print(\"divisão 3 / 3\")\n",
    "print(\"Eponencial\"\"4 ** 4\")\n",
    "print(4 ** 4)\n",
    "print(\"visto as operações básicas, vamos ver as casas decimais\")\n",
    "print(\"2 / 3\")\n",
    "print(2 / 3,\"aqui podemos ver que o Python utiliza como marcador de casa decimal o ponto final(.)\")\n",
    "print(\"resto de uma divisão 7 % 3\")\n",
    "print(7 % 3,\" e o resto da divisão exata de 7 por 3\")\n"
   ]
  },
  {
   "cell_type": "code",
   "execution_count": 3,
   "id": "a67566ed",
   "metadata": {},
   "outputs": [
    {
     "name": "stdout",
     "output_type": "stream",
     "text": [
      "As operações em Python seguem a mesma ordem e lógica das operações matemáticas\n",
      "2\n",
      "5\n",
      "caso precise ordenar em uma ordem diferente da matematica utilize parenteses exatamente igual na matemática\n",
      "8\n",
      "4.5\n",
      "-3.0\n"
     ]
    }
   ],
   "source": [
    "print(\"As operações em Python seguem a mesma ordem e lógica das operações matemáticas\")\n",
    "print(1 + 1)\n",
    "print(1 + 1 * 4)\n",
    "print(\"caso precise ordenar em uma ordem diferente da matematica utilize parenteses exatamente igual na matemática\")\n",
    "print((1 + 1) * 4)\n",
    "print(1 + 2 * 3 - 5 / 2)\n",
    "print(((1 + 2) * (3 - 5))/ 2)"
   ]
  },
  {
   "cell_type": "code",
   "execution_count": 4,
   "id": "fa349dad",
   "metadata": {},
   "outputs": [
    {
     "name": "stdout",
     "output_type": "stream",
     "text": [
      "String dentro do Python\n",
      "função concatenar em string\n",
      "python é fera\n",
      "operação (in)\n",
      "True\n",
      "True\n",
      "False ou seja a função (in) é Case Sensitive\n"
     ]
    }
   ],
   "source": [
    "print(\"String dentro do Python\")\n",
    "print(\"função concatenar em string\")\n",
    "print(\"python é\" + \" fera\")\n",
    "\n",
    "print(\"operação (in)\")\n",
    "print('@' in 'hugo@gmail.com')\n",
    "print('hugo' in 'hugo@gmail.com')\n",
    "print('Hugo' in 'hugo@gmail.com', \"ou seja a função (in) é Case Sensitive\")\n",
    "\n"
   ]
  },
  {
   "cell_type": "code",
   "execution_count": 5,
   "id": "f48dd1d2",
   "metadata": {},
   "outputs": [
    {
     "name": "stdout",
     "output_type": "stream",
     "text": [
      "Variaveis\n",
      "atribuição direta quando a variavel for fixa ou tiver um valor inicial fixo\n",
      "1500\n",
      "1600\n",
      "podemos ver que a variavel armazena o ultimo valor solicitado ou seja que ela vai sobreescrevendo\n"
     ]
    }
   ],
   "source": [
    "print(\"Variaveis\")\n",
    "print(\"atribuição direta quando a variavel for fixa ou tiver um valor inicial fixo\")\n",
    "qtde_vendas = 1500\n",
    "print(qtde_vendas)\n",
    "qtde_vendas = 1600\n",
    "print(qtde_vendas)\n",
    "print(\"podemos ver que a variavel armazena o ultimo valor solicitado ou seja que ela vai sobreescrevendo\")"
   ]
  },
  {
   "cell_type": "markdown",
   "id": "a583e8df",
   "metadata": {},
   "source": [
    "## Quando houverem linhas de comando separado em mais de uma celula, atenção para a ordem de execução\n"
   ]
  },
  {
   "cell_type": "code",
   "execution_count": 2,
   "id": "081ae496",
   "metadata": {},
   "outputs": [
    {
     "name": "stdout",
     "output_type": "stream",
     "text": [
      "700\n",
      "700\n",
      "750\n"
     ]
    }
   ],
   "source": [
    "vendas_tot = 1000\n",
    "custo = 300\n",
    "\n",
    "lucro = vendas_tot - custo\n",
    "print (lucro)\n",
    "\n",
    "custo = 250\n",
    "\n",
    "print (lucro)\n",
    "lucro = vendas_tot - custo\n",
    "\n",
    "print (lucro)(\"apenas apos executar a função lucro novamente que ela sera atualizada com o novo custo informado\")"
   ]
  },
  {
   "cell_type": "markdown",
   "id": "1dc26f37",
   "metadata": {},
   "source": [
    "Tipos de variaveis"
   ]
  },
  {
   "cell_type": "code",
   "execution_count": 7,
   "id": "85edcb4b",
   "metadata": {},
   "outputs": [
    {
     "name": "stdout",
     "output_type": "stream",
     "text": [
      "<class 'int'>\n",
      "<class 'float'>\n",
      "<class 'str'>\n",
      "<class 'str'>\n",
      "<class 'bool'>\n"
     ]
    }
   ],
   "source": [
    "variavel = 100\n",
    "print (type(variavel))\n",
    "\n",
    "variavel = 100.00\n",
    "print (type(variavel))\n",
    "\n",
    "variavel = \"Cem\"\n",
    "print (type(variavel))\n",
    "\n",
    "variavel = \"100\"\n",
    "print (type(variavel))\n",
    "\n",
    "variavel = True\n",
    "print (type(variavel))"
   ]
  },
  {
   "cell_type": "code",
   "execution_count": 8,
   "id": "aeaa14b4",
   "metadata": {},
   "outputs": [
    {
     "data": {
      "text/plain": [
       "'cuidados importantes!! nao usar como nome de variavel as varaveis já pre existentes do python'"
      ]
     },
     "execution_count": 8,
     "metadata": {},
     "output_type": "execute_result"
    }
   ],
   "source": [
    "(\"cuidados importantes!! nao usar como nome de variavel as varaveis já pre existentes do python\")"
   ]
  },
  {
   "cell_type": "code",
   "execution_count": 12,
   "id": "51cd6b76",
   "metadata": {},
   "outputs": [
    {
     "name": "stdout",
     "output_type": "stream",
     "text": [
      "A meta é de 100\n"
     ]
    }
   ],
   "source": [
    "#variavel = 100\n",
    "#\n",
    "#print (\"A meta é de\" + variavel)\n",
    "(\"codigo acima vai dar erro por não poder concatenar uma STR com um INT dessa forma e necessario a transformação da variavel antes\")\n",
    "\n",
    "variavel = 100\n",
    "\n",
    "print (\"A meta é de \" + str(variavel))\n"
   ]
  },
  {
   "cell_type": "markdown",
   "id": "bc844927",
   "metadata": {},
   "source": [
    "## FORMAT"
   ]
  },
  {
   "cell_type": "code",
   "execution_count": 18,
   "id": "eeaa0769",
   "metadata": {},
   "outputs": [
    {
     "name": "stdout",
     "output_type": "stream",
     "text": [
      "A meta da loja 1 é de: 110A meta da loja 2 é de: 120A meta da loja 3 é de: 90\n",
      "A média das metas foi de 106.66666666666667\n"
     ]
    }
   ],
   "source": [
    "loja1 = 110\n",
    "loja2 = 120\n",
    "loja3 = 90\n",
    "\n",
    "media = (loja1 + loja2 + loja3) / 3\n",
    "\n",
    "print (\"A meta da loja 1 é de: \" + str(loja1) + \"A meta da loja 2 é de: \" + str(loja2) + \"A meta da loja 3 é de: \" + str(loja3))\n",
    "print (\"A média das metas foi de \" + str(media))"
   ]
  },
  {
   "cell_type": "code",
   "execution_count": 23,
   "id": "b8c0435a",
   "metadata": {},
   "outputs": [
    {
     "ename": "SyntaxError",
     "evalue": "invalid syntax (2864426379.py, line 9)",
     "output_type": "error",
     "traceback": [
      "\u001b[1;36m  Input \u001b[1;32mIn [23]\u001b[1;36m\u001b[0m\n\u001b[1;33m    print (\"A média das metas foi de {}\".format(.0media))\u001b[0m\n\u001b[1;37m                                                  ^\u001b[0m\n\u001b[1;31mSyntaxError\u001b[0m\u001b[1;31m:\u001b[0m invalid syntax\n"
     ]
    }
   ],
   "source": [
    "loja1 = 110\n",
    "loja2 = 120\n",
    "loja3 = 90\n",
    "\n",
    "media = (loja1 + loja2 + loja3) / 3\n",
    "\n",
    "print (\"A meta da loja 1 é de: {}. A meta da loja 2 é de: {}. A meta da loja 3 é de: {}.\" .format(loja1, loja2, loja3))\n",
    "(\"o .format colocara as variaveis na ordem das {} que vao aparecendo\")\n",
    "print (\"A média das metas foi de {}\".format(media))"
   ]
  },
  {
   "cell_type": "code",
   "execution_count": null,
   "id": "411a0863",
   "metadata": {},
   "outputs": [],
   "source": []
  }
 ],
 "metadata": {
  "kernelspec": {
   "display_name": "Python 3 (ipykernel)",
   "language": "python",
   "name": "python3"
  },
  "language_info": {
   "codemirror_mode": {
    "name": "ipython",
    "version": 3
   },
   "file_extension": ".py",
   "mimetype": "text/x-python",
   "name": "python",
   "nbconvert_exporter": "python",
   "pygments_lexer": "ipython3",
   "version": "3.9.12"
  }
 },
 "nbformat": 4,
 "nbformat_minor": 5
}
