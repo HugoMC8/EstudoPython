{
 "cells": [
  {
   "cell_type": "markdown",
   "id": "bf4bddf8",
   "metadata": {},
   "source": [
    "## Tuplas\n",
    "\n",
    "### Estrutura:\n",
    "\n",
    "tupla = (valor,valor,valor,...)\n",
    "\n",
    "Parece uma lista, mas é imutavel (nao conseguimos adicionar, remover ou alterar o valor)\n",
    "por isso e interessante pra proteger a base de dados por exemplo\n",
    "\n",
    "aceita valores hetereogeneos"
   ]
  },
  {
   "cell_type": "code",
   "execution_count": 21,
   "id": "44bfbeca",
   "metadata": {},
   "outputs": [
    {
     "name": "stdout",
     "output_type": "stream",
     "text": [
      "('Hugo', '01/01/1988', 3500, 0.16, True)\n",
      "O nome do funcionário é Hugo\n",
      "A data de nascimento do funcionário Hugo é: 01/01/1988\n",
      "O Salário do funcionário Hugo, nascido em 01/01/1988 é de: R$ 3,500.00\n",
      "O imposto do funcionário Hugo nascido em 01/01/1988, devido ao seu salario de R$ 3,500.00 é de R$ 560.00 com uma aliquota de 16%\n"
     ]
    }
   ],
   "source": [
    "vendas = (\"Hugo\", \"01/01/1988\", 3500, 0.16, True)\n",
    "print (vendas)\n",
    "\n",
    "nome = vendas[0]\n",
    "data_nascimento = vendas[1]\n",
    "salario = vendas[2]\n",
    "imposto = vendas[3]\n",
    "pj = vendas[4]\n",
    "\n",
    "print(\"O nome do funcionário é {}\".format(nome))\n",
    "print(\"A data de nascimento do funcionário {} é: {}\".format(nome, data_nascimento))\n",
    "print(\"O Salário do funcionário {}, nascido em {} é de: R$ {:,.2f}\".format(nome,data_nascimento,salario))\n",
    "print(\"O imposto do funcionário {} nascido em {}, devido ao seu salario de R$ {:,.2f} é de R$ {:,.2f} com uma aliquota de {:.0%}\".format(nome,data_nascimento,salario,salario*imposto, imposto))\n",
    "\n",
    "# tentando alterar o valor do salario da erro por se tratar de uma tupla\n",
    "# vendas[2] = 4000"
   ]
  },
  {
   "cell_type": "markdown",
   "id": "92120c25",
   "metadata": {},
   "source": [
    "## UNPACKING de tupla"
   ]
  },
  {
   "cell_type": "code",
   "execution_count": 22,
   "id": "21b52cea",
   "metadata": {},
   "outputs": [
    {
     "name": "stdout",
     "output_type": "stream",
     "text": [
      "Hugo\n",
      "01/01/1988\n",
      "3500\n",
      "0.16\n",
      "True\n"
     ]
    }
   ],
   "source": [
    "vendas = (\"Hugo\", \"01/01/1988\", 3500, 0.16, True)\n",
    "\n",
    "nome, data_nascimento, salario, imposto, pj = vendas\n",
    "\n",
    "print(nome)\n",
    "print(data_nascimento)\n",
    "print(salario)\n",
    "print(imposto)\n",
    "print(pj)"
   ]
  },
  {
   "cell_type": "markdown",
   "id": "a03d5965",
   "metadata": {},
   "source": [
    "## lista de tuplas"
   ]
  },
  {
   "cell_type": "raw",
   "id": "c874330e",
   "metadata": {},
   "source": [
    "lista = [\n",
    "    tupla1,\n",
    "    tupla2,\n",
    "    tupla3,\n",
    "    tupla4,\n",
    "    ]\n",
    "    \n",
    "=\n",
    "\n",
    "\n",
    "lista = [\n",
    "    (valor1, valor2, valor3),\n",
    "    (valor4, valor5, valor6),\n",
    "    (valor7, valor8, valor9),\n",
    "    (valor10, valor11, valor12),\n",
    "    ]\n",
    "    \n",
    "    "
   ]
  },
  {
   "cell_type": "code",
   "execution_count": 37,
   "id": "333bdf47",
   "metadata": {},
   "outputs": [
    {
     "name": "stdout",
     "output_type": "stream",
     "text": [
      "O faturamento do dia 01/01/2022 foi de R$ 4,360.00\n",
      "O faturamento do dia 02/01/2022 foi de R$ 2,434.00\n",
      "O faturamento total foi de R$ 6,794.00\n"
     ]
    }
   ],
   "source": [
    "vendas = [\n",
    "    (\"01/01/2022\",\"gasp13\", \"portaria\", 14, 120, \"dinheiro\"),\n",
    "    (\"01/01/2022\",\"agua20lt\", \"Andre\", 20, 9, \"cartão\"),\n",
    "    (\"01/01/2022\",\"gasp45\", \"portaria\", 1, 500, \"dinheiro\"),\n",
    "    (\"01/01/2022\",\"gasp13\", \"Andre\", 16, 125, \"cartão\"),\n",
    "    (\"02/01/2022\",\"gasp13\", \"portaria\", 18, 120, \"dinheiro\"),\n",
    "    (\"02/01/2022\",\"agua20lt\", \"portaria\", 25, 5, \"dinheiro\"),\n",
    "    (\"02/01/2022\",\"agua20lt\", \"Andre\", 13, 8, \"dinheiro\"),\n",
    "    (\"02/01/2022\",\"agua20lt\", \"Andre\", 5, 9, \"cartão\"),\n",
    "]\n",
    "# descubra o faturamento por dia \n",
    "\n",
    "faturamento_1 = vendas[0][3] * vendas[0][4] + vendas[1][3] * vendas[1][4] + vendas[2][3] * vendas[2][4] + vendas[3][3] * vendas[3][4]\n",
    "faturamento_2 = vendas[4][3] * vendas[4][4] + vendas[5][3] * vendas[5][4] + vendas[6][3] * vendas[6][4] + vendas[7][3] * vendas[7][4]\n",
    "faturamento_tot = faturamento_1 + faturamento_2\n",
    "\n",
    "print(\"O faturamento do dia {} foi de R$ {:,.2f}\".format(vendas[0][0],faturamento_1))\n",
    "print(\"O faturamento do dia {} foi de R$ {:,.2f}\".format(vendas[4][0],faturamento_2))\n",
    "print(\"O faturamento total foi de R$ {:,.2f}\".format(faturamento_tot))"
   ]
  },
  {
   "cell_type": "code",
   "execution_count": 38,
   "id": "6510ad11",
   "metadata": {},
   "outputs": [
    {
     "name": "stdout",
     "output_type": "stream",
     "text": [
      "('01/01/2022', 'gasp13', 'portaria', 14, 120, 'dinheiro')\n",
      "('01/01/2022', 'agua20lt', 'Andre', 20, 9, 'cartão')\n",
      "('01/01/2022', 'gasp45', 'portaria', 1, 500, 'dinheiro')\n",
      "('01/01/2022', 'gasp13', 'Andre', 16, 125, 'cartão')\n",
      "('02/01/2022', 'gasp13', 'portaria', 18, 120, 'dinheiro')\n",
      "('02/01/2022', 'agua20lt', 'portaria', 25, 5, 'dinheiro')\n",
      "('02/01/2022', 'agua20lt', 'Andre', 13, 8, 'dinheiro')\n",
      "('02/01/2022', 'agua20lt', 'Andre', 5, 9, 'cartão')\n"
     ]
    }
   ],
   "source": [
    "vendas = [\n",
    "    (\"01/01/2022\",\"gasp13\", \"portaria\", 14, 120, \"dinheiro\"),\n",
    "    (\"01/01/2022\",\"agua20lt\", \"Andre\", 20, 9, \"cartão\"),\n",
    "    (\"01/01/2022\",\"gasp45\", \"portaria\", 1, 500, \"dinheiro\"),\n",
    "    (\"01/01/2022\",\"gasp13\", \"Andre\", 16, 125, \"cartão\"),\n",
    "    (\"02/01/2022\",\"gasp13\", \"portaria\", 18, 120, \"dinheiro\"),\n",
    "    (\"02/01/2022\",\"agua20lt\", \"portaria\", 25, 5, \"dinheiro\"),\n",
    "    (\"02/01/2022\",\"agua20lt\", \"Andre\", 13, 8, \"dinheiro\"),\n",
    "    (\"02/01/2022\",\"agua20lt\", \"Andre\", 5, 9, \"cartão\"),\n",
    "]\n",
    "# descubra o faturamento por dia \n",
    "\n",
    "for venda in vendas:\n",
    "    data, produto, responsavel, qtd, valor, formapg = venda\n",
    "    if data == \"01/01/2022\":\n",
    "        \n"
   ]
  },
  {
   "cell_type": "code",
   "execution_count": null,
   "id": "6170d608",
   "metadata": {},
   "outputs": [],
   "source": []
  }
 ],
 "metadata": {
  "kernelspec": {
   "display_name": "Python 3 (ipykernel)",
   "language": "python",
   "name": "python3"
  },
  "language_info": {
   "codemirror_mode": {
    "name": "ipython",
    "version": 3
   },
   "file_extension": ".py",
   "mimetype": "text/x-python",
   "name": "python",
   "nbconvert_exporter": "python",
   "pygments_lexer": "ipython3",
   "version": "3.9.12"
  }
 },
 "nbformat": 4,
 "nbformat_minor": 5
}
