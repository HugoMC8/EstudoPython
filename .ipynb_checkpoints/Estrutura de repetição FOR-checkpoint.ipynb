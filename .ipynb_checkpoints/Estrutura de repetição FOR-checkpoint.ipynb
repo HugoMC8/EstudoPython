{
 "cells": [
  {
   "cell_type": "markdown",
   "id": "20c9525e",
   "metadata": {},
   "source": [
    "## repetição com FOR"
   ]
  },
  {
   "cell_type": "raw",
   "id": "1c8d39bb",
   "metadata": {},
   "source": [
    "for i in range(n):\n",
    "    repetir codigo n vezes"
   ]
  },
  {
   "cell_type": "code",
   "execution_count": 22,
   "id": "fb054dc8",
   "metadata": {},
   "outputs": [
    {
     "name": "stdout",
     "output_type": "stream",
     "text": [
      "Hugo\n",
      "Hugo\n",
      "Hugo\n"
     ]
    }
   ],
   "source": [
    "for i in range(3): #a cada repeticao ele soma 1 ao valor de i ate chegar em 3\n",
    "    print(\"Hugo\") # em cada repeticao ele executa as tarefas que estiverem indentadas a ele"
   ]
  },
  {
   "cell_type": "code",
   "execution_count": 2,
   "id": "0e0e71aa",
   "metadata": {},
   "outputs": [
    {
     "name": "stdout",
     "output_type": "stream",
     "text": [
      "0\n",
      "1\n",
      "2\n",
      "3\n",
      "4\n"
     ]
    }
   ],
   "source": [
    "for i in range(5):\n",
    "    print(i)"
   ]
  },
  {
   "cell_type": "code",
   "execution_count": 23,
   "id": "51bd3963",
   "metadata": {},
   "outputs": [
    {
     "name": "stdout",
     "output_type": "stream",
     "text": [
      "30 unidades vendidas de gasp13.\n",
      "1 unidades vendidas de gasp45.\n",
      "8 unidades vendidas de agua22.\n",
      "10 unidades vendidas de agua23.\n",
      "12 unidades vendidas de agua24.\n",
      "6 unidades vendidas de agua25.\n"
     ]
    }
   ],
   "source": [
    "produtos = [\"gasp13\",\"gasp45\",\"agua22\",\"agua23\", \"agua24\",\"agua25\"]\n",
    "vendas = [30,1,8,10,12,6]\n",
    "\n",
    "for i in range(len(produtos)):\n",
    "    print(\"{} unidades vendidas de {}.\".format(vendas[i],produtos[i]))"
   ]
  },
  {
   "cell_type": "code",
   "execution_count": 54,
   "id": "a3899a89",
   "metadata": {},
   "outputs": [
    {
     "name": "stdout",
     "output_type": "stream",
     "text": [
      "30 unidades vendidas de gasp13, gerando uma venda de 3600 reais.\n",
      "1 unidades vendidas de gasp45, gerando uma venda de 500 reais.\n",
      "8 unidades vendidas de agua22, gerando uma venda de 40 reais.\n",
      "10 unidades vendidas de agua23, gerando uma venda de 50 reais.\n",
      "12 unidades vendidas de agua24, gerando uma venda de 60 reais.\n",
      "6 unidades vendidas de agua25, gerando uma venda de 30 reais.\n",
      "4,280.00 foi o faturamento total do dia!\n"
     ]
    }
   ],
   "source": [
    "#aqui farei o for atraves do indice da lista\n",
    "produtos = [\"gasp13\",\"gasp45\",\"agua22\",\"agua23\", \"agua24\",\"agua25\"]\n",
    "vendas = [30,1,8,10,12,6]\n",
    "valor = [120,500,5,5,5,5]\n",
    "vendas_tot = 0\n",
    "\n",
    "for i in range(len(produtos)):\n",
    "    vendas_tot = vendas_tot + (valor[i]*vendas[i]) #usando o for para sumor o total, mas poderia ser pela função sum()\n",
    "    print(\"{} unidades vendidas de {}, gerando uma venda de {} reais.\".format(vendas[i],produtos[i],(vendas[i]*valor[i])))\n",
    "print(\"{:,.2f} foi o faturamento total do dia!\".format(vendas_tot))"
   ]
  },
  {
   "cell_type": "code",
   "execution_count": 44,
   "id": "e1da9d36",
   "metadata": {},
   "outputs": [
    {
     "name": "stdout",
     "output_type": "stream",
     "text": [
      "H\n",
      "u\n",
      "g\n",
      "o\n",
      " \n",
      "e\n",
      "s\n",
      "t\n",
      "a\n",
      " \n",
      "a\n",
      "p\n",
      "r\n",
      "e\n",
      "n\n",
      "d\n",
      "e\n",
      "n\n",
      "d\n",
      "o\n",
      " \n",
      "a\n",
      " \n",
      "c\n",
      "o\n",
      "d\n",
      "a\n",
      "r\n",
      "!\n",
      "gasp13\n",
      "gasp45\n",
      "agua22\n",
      "agua23\n",
      "agua24\n",
      "agua25\n"
     ]
    }
   ],
   "source": [
    "#tambem oidemos usar o range em string \n",
    "\n",
    "texto = \"Hugo esta aprendendo a codar!\"\n",
    "\n",
    "for i in texto:\n",
    "    print(i)\n",
    "    \n",
    "# ou direto em uma lista sem pegar o indice\n",
    "produtos = [\"gasp13\",\"gasp45\",\"agua22\",\"agua23\", \"agua24\",\"agua25\"]\n",
    "for produto in produtos:\n",
    "    print(produto)\n"
   ]
  },
  {
   "cell_type": "markdown",
   "id": "a777ea9e",
   "metadata": {},
   "source": [
    "## combinando o for com if"
   ]
  },
  {
   "cell_type": "raw",
   "id": "020ad8d7",
   "metadata": {},
   "source": [
    "for item in lista:\n",
    "    if condição:\n",
    "        faca algo\n",
    "    else:\n",
    "        faca outra coisa\n"
   ]
  },
  {
   "cell_type": "code",
   "execution_count": 43,
   "id": "b4bec1c4",
   "metadata": {},
   "outputs": [
    {
     "name": "stdout",
     "output_type": "stream",
     "text": [
      "51\n",
      "84\n",
      "74\n",
      "51\n",
      "95\n",
      "62\n",
      "52\n",
      "84\n",
      "84\n",
      "75\n",
      "74\n",
      "91\n",
      "A empresa possui 21 funcionários cadastrados\n",
      "12 pessoas bateram a meta\n",
      "57.14% dos vendedores bateram a meta\n"
     ]
    }
   ],
   "source": [
    "vendas = [10, 15, 51, 84, 74, 51, 41, 95, 62, 31, 52, 84, 84, 75, 74, 91, 15, 18, 14, 16, 18]\n",
    "meta = 45\n",
    "cont = 0\n",
    "for venda in vendas:\n",
    "    if venda >= meta:\n",
    "        cont += 1\n",
    "        print(venda)\n",
    "print(\"A empresa possui {} funcionários cadastrados\".format(len(vendas)))\n",
    "print(\"{} pessoas bateram a meta\".format(cont))\n",
    "print(\"{:.2%} dos vendedores bateram a meta\".format((cont/len(vendas))))"
   ]
  },
  {
   "cell_type": "code",
   "execution_count": 45,
   "id": "5b8617f8",
   "metadata": {},
   "outputs": [],
   "source": [
    "# ou as vezes podemos usar o for direto na lista mas pegando tambem o indice para poder relacionar mais listas por exemplo \n",
    "#para isso usaremos o .enumerate() \n",
    "# usar apenas quando necessario por tornar o codico mais lento.\n"
   ]
  },
  {
   "cell_type": "raw",
   "id": "9932fe19",
   "metadata": {},
   "source": [
    "for i, venda in enumerate(vendas):\n",
    "    faca algo"
   ]
  },
  {
   "cell_type": "code",
   "execution_count": 47,
   "id": "6360f865",
   "metadata": {},
   "outputs": [
    {
     "name": "stdout",
     "output_type": "stream",
     "text": [
      "10 foi a venda de numero 0\n",
      "15 foi a venda de numero 1\n",
      "51 foi a venda de numero 2\n",
      "84 foi a venda de numero 3\n",
      "74 foi a venda de numero 4\n",
      "51 foi a venda de numero 5\n",
      "41 foi a venda de numero 6\n",
      "95 foi a venda de numero 7\n",
      "62 foi a venda de numero 8\n",
      "31 foi a venda de numero 9\n",
      "52 foi a venda de numero 10\n",
      "84 foi a venda de numero 11\n",
      "84 foi a venda de numero 12\n",
      "75 foi a venda de numero 13\n",
      "74 foi a venda de numero 14\n",
      "91 foi a venda de numero 15\n",
      "15 foi a venda de numero 16\n",
      "18 foi a venda de numero 17\n",
      "14 foi a venda de numero 18\n",
      "16 foi a venda de numero 19\n",
      "18 foi a venda de numero 20\n"
     ]
    }
   ],
   "source": [
    "vendas = [10, 15, 51, 84, 74, 51, 41, 95, 62, 31, 52, 84, 84, 75, 74, 91, 15, 18, 14, 16, 18]\n",
    "for i, venda in enumerate(vendas):\n",
    "    print(\"{} foi a venda de numero {}\".format(venda,i))"
   ]
  },
  {
   "cell_type": "code",
   "execution_count": 52,
   "id": "3de55fe7",
   "metadata": {},
   "outputs": [
    {
     "name": "stdout",
     "output_type": "stream",
     "text": [
      "30 unidades vendidas de gasp13, gerando uma venda de 3600 reais.\n",
      "1 unidades vendidas de gasp45, gerando uma venda de 500 reais.\n",
      "8 unidades vendidas de agua22, gerando uma venda de 40 reais.\n",
      "10 unidades vendidas de agua23, gerando uma venda de 50 reais.\n",
      "12 unidades vendidas de agua24, gerando uma venda de 60 reais.\n",
      "6 unidades vendidas de agua25, gerando uma venda de 30 reais.\n",
      "4,280.00 foi o faturamento total do dia!\n",
      "30 unidades vendidas de gasp13, gerando uma venda de 3600 reais.\n",
      "1 unidades vendidas de gasp45, gerando uma venda de 500 reais.\n",
      "8 unidades vendidas de agua22, gerando uma venda de 40 reais.\n",
      "10 unidades vendidas de agua23, gerando uma venda de 50 reais.\n",
      "12 unidades vendidas de agua24, gerando uma venda de 60 reais.\n",
      "6 unidades vendidas de agua25, gerando uma venda de 30 reais.\n",
      "4,280.00 foi o faturamento total do dia!\n"
     ]
    }
   ],
   "source": [
    "produtos = [\"gasp13\",\"gasp45\",\"agua22\",\"agua23\", \"agua24\",\"agua25\"]\n",
    "vendas = [30,1,8,10,12,6]\n",
    "valor = [120,500,5,5,5,5]\n",
    "vendas_tot = 0\n",
    "\n",
    "for i in range(len(produtos)):\n",
    "    vendas_tot = vendas_tot + (valor[i]*vendas[i]) #usando o for para sumor o total, mas poderia ser pela função sum()\n",
    "    print(\"{} unidades vendidas de {}, gerando uma venda de {} reais.\".format(vendas[i],produtos[i],(vendas[i]*valor[i])))\n",
    "print(\"{:,.2f} foi o faturamento total do dia!\".format(vendas_tot))\n",
    "\n",
    "#repetindo utilizando o enumerate\n",
    "\n",
    "produtos = [\"gasp13\",\"gasp45\",\"agua22\",\"agua23\", \"agua24\",\"agua25\"]\n",
    "vendas = [30,1,8,10,12,6]\n",
    "valor = [120,500,5,5,5,5]\n",
    "vendas_tot = 0\n",
    "\n",
    "for i, produto in enumerate(produtos):\n",
    "    vendas_tot += valor[i]*vendas[i]\n",
    "    print(\"{} unidades vendidas de {}, gerando uma venda de {} reais.\".format(vendas[i],produto,(vendas[i]*valor[i])))\n",
    "print(\"{:,.2f} foi o faturamento total do dia!\".format(vendas_tot))"
   ]
  },
  {
   "cell_type": "code",
   "execution_count": null,
   "id": "d3e45ca9",
   "metadata": {},
   "outputs": [],
   "source": []
  }
 ],
 "metadata": {
  "kernelspec": {
   "display_name": "Python 3 (ipykernel)",
   "language": "python",
   "name": "python3"
  },
  "language_info": {
   "codemirror_mode": {
    "name": "ipython",
    "version": 3
   },
   "file_extension": ".py",
   "mimetype": "text/x-python",
   "name": "python",
   "nbconvert_exporter": "python",
   "pygments_lexer": "ipython3",
   "version": "3.9.12"
  }
 },
 "nbformat": 4,
 "nbformat_minor": 5
}
