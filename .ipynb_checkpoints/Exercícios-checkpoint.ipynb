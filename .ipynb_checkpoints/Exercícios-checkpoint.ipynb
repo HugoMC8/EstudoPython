{
 "cells": [
  {
   "cell_type": "code",
   "execution_count": 7,
   "id": "7c38b118",
   "metadata": {},
   "outputs": [
    {
     "name": "stdout",
     "output_type": "stream",
     "text": [
      "Quantos Botijões de P13 tem na Base?20\n",
      "Quantos Vasilhames de Botijão vazio de P13 tem na Base?100\n",
      "Quantos Galões de Água 2022 Cheios tem na base?10\n",
      "Quantos Galões de Água 2023 Cheios tem na base?10\n",
      "Quantos Galões de Água 2024 Cheios tem na base?10\n",
      "Quantos Galões de Água 2025 Cheios tem na base?1\n",
      "Solicitar 100 Recargas de Gas à equipe de compras, temos apenas 20 unidades em estoque\n",
      "Solicitar -40 Recargas de Gas à equipe de compras, temos apenas 100 unidades em estoque\n",
      "Solicitar 20 Recargas de Gas à equipe de compras, temos apenas 10 unidades em estoque\n",
      "Solicitar 20 Recargas de Gas à equipe de compras, temos apenas 10 unidades em estoque\n",
      "Solicitar 20 Recargas de Gas à equipe de compras, temos apenas 10 unidades em estoque\n",
      "Solicitar 29 Recargas de Gas à equipe de compras, temos apenas 1 unidades em estoque\n"
     ]
    }
   ],
   "source": [
    "gasp13 = input(\"Quantos Botijões de P13 tem na Base?\")\n",
    "vasip13 = input(\"Quantos Vasilhames de Botijão vazio de P13 tem na Base?\")\n",
    "agua2022 = input(\"Quantos Galões de Água 2022 Cheios tem na base?\")\n",
    "agua2023 = input(\"Quantos Galões de Água 2023 Cheios tem na base?\")\n",
    "agua2024= input(\"Quantos Galões de Água 2024 Cheios tem na base?\")\n",
    "agua2025 = input(\"Quantos Galões de Água 2025 Cheios tem na base?\")\n",
    "\n",
    "if gasp13 and vasip13 and agua2022 and agua2023 and agua2024 and agua2025:\n",
    "    gasp13 = int(gasp13)\n",
    "    vasip13 = int(vasip13)\n",
    "    agua2022 = int(agua2022) \n",
    "    agua2023 = int(agua2023)\n",
    "    agua2024 = int(agua2024)\n",
    "    agua2025 = int(agua2025)\n",
    "    if gasp13 < 60:\n",
    "        print(\"Solicitar {} Recargas de Gas à equipe de compras, temos apenas {} unidades em estoque\".format((120-gasp13),gasp13))\n",
    "    if vasip13 > 60:\n",
    "        print(\"Solicitar {} Recargas de Gas à equipe de compras, temos apenas {} unidades em estoque\".format((60-vasip13),vasip13))\n",
    "    if agua2022 < 30:\n",
    "        print(\"Solicitar {} Recargas de Gas à equipe de compras, temos apenas {} unidades em estoque\".format((30-agua2022),agua2022))\n",
    "    if agua2023 < 30:\n",
    "        print(\"Solicitar {} Recargas de Gas à equipe de compras, temos apenas {} unidades em estoque\".format((30-agua2023),agua2023))\n",
    "    if agua2024 < 30:\n",
    "        print(\"Solicitar {} Recargas de Gas à equipe de compras, temos apenas {} unidades em estoque\".format((30-agua2024),agua2024))\n",
    "    if agua2025 < 30:\n",
    "        print(\"Solicitar {} Recargas de Gas à equipe de compras, temos apenas {} unidades em estoque\".format((30-agua2025),agua2025))"
   ]
  },
  {
   "cell_type": "raw",
   "id": "f2abdf7b",
   "metadata": {},
   "source": []
  },
  {
   "cell_type": "code",
   "execution_count": null,
   "id": "dbd79a4c",
   "metadata": {},
   "outputs": [],
   "source": []
  }
 ],
 "metadata": {
  "kernelspec": {
   "display_name": "Python 3 (ipykernel)",
   "language": "python",
   "name": "python3"
  },
  "language_info": {
   "codemirror_mode": {
    "name": "ipython",
    "version": 3
   },
   "file_extension": ".py",
   "mimetype": "text/x-python",
   "name": "python",
   "nbconvert_exporter": "python",
   "pygments_lexer": "ipython3",
   "version": "3.9.12"
  }
 },
 "nbformat": 4,
 "nbformat_minor": 5
}
