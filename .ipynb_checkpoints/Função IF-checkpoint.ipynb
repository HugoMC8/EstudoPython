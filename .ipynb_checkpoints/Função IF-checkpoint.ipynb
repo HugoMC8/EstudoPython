{
 "cells": [
  {
   "cell_type": "code",
   "execution_count": 6,
   "id": "79e7b6dd",
   "metadata": {},
   "outputs": [
    {
     "name": "stdout",
     "output_type": "stream",
     "text": [
      "Não batemos a meta em -100 unidades, a meta era de 1000 unidades\n"
     ]
    }
   ],
   "source": [
    "meta = 1000\n",
    "qtd_vendida = 900\n",
    "\n",
    "if qtd_vendida >= meta:\n",
    "    print (\"Batemos a meta em {} unidades, a meta era de {} unidades\" .format(qtd_vendida - meta, meta))\n",
    "else:\n",
    "    print (\"Não batemos a meta em {} unidades, a meta era de {} unidades\" .format(qtd_vendida - meta, meta))"
   ]
  },
  {
   "cell_type": "code",
   "execution_count": 18,
   "id": "fb59fd98",
   "metadata": {},
   "outputs": [
    {
     "name": "stdout",
     "output_type": "stream",
     "text": [
      "A taxa aplicada foi de 0\n"
     ]
    }
   ],
   "source": [
    "meta = 0.05\n",
    "taxa = 0\n",
    "rendimento = 0.03\n",
    "\n",
    "\n",
    "if rendimento > meta:\n",
    "    if rendimento > 0.20:\n",
    "        taxa = 0.04\n",
    "        print (\"A taxa aplicada foi de {}\".format(taxa))\n",
    "    else:\n",
    "        taxa = 0.02\n",
    "        print (\"A taxa aplicada foi de {}\".format(taxa))\n",
    "else:\n",
    "    taxa = 0\n",
    "    print (\"A taxa aplicada foi de {}\".format(taxa))"
   ]
  },
  {
   "cell_type": "code",
   "execution_count": 24,
   "id": "ed520093",
   "metadata": {},
   "outputs": [
    {
     "name": "stdout",
     "output_type": "stream",
     "text": [
      "A taxa aplicada foi de 0.04\n"
     ]
    }
   ],
   "source": [
    "meta1 = 0.05\n",
    "meta2 = 0.20\n",
    "taxa = 0\n",
    "rendimento = 0.22\n",
    "\n",
    "\n",
    "if rendimento > meta2:\n",
    "    taxa = 0.04\n",
    "    print (\"A taxa aplicada foi de {}\".format(taxa))\n",
    "elif rendimento > meta1:\n",
    "    taxa = 0.02\n",
    "    print (\"A taxa aplicada foi de {}\".format(taxa))\n",
    "else:\n",
    "    taxa = 0\n",
    "    print (\"A taxa aplicada foi de {}\".format(taxa))"
   ]
  },
  {
   "cell_type": "markdown",
   "id": "102c5e82",
   "metadata": {},
   "source": [
    "## Comparadores "
   ]
  },
  {
   "cell_type": "raw",
   "id": "1277f6f5",
   "metadata": {},
   "source": [
    "==     igual\n",
    "!=     diferente\n",
    ">      maior que (>= maior ou igual)\n",
    "<      menor que (<= menor ou igual)\n",
    "in     texto existe dentro de outro texto\n",
    "not    verifica o contrario da comparação\n",
    "\n",
    "pass   em condições que não queira fazer nada"
   ]
  },
  {
   "cell_type": "code",
   "execution_count": null,
   "id": "02afb925",
   "metadata": {},
   "outputs": [],
   "source": []
  }
 ],
 "metadata": {
  "kernelspec": {
   "display_name": "Python 3 (ipykernel)",
   "language": "python",
   "name": "python3"
  },
  "language_info": {
   "codemirror_mode": {
    "name": "ipython",
    "version": 3
   },
   "file_extension": ".py",
   "mimetype": "text/x-python",
   "name": "python",
   "nbconvert_exporter": "python",
   "pygments_lexer": "ipython3",
   "version": "3.9.12"
  }
 },
 "nbformat": 4,
 "nbformat_minor": 5
}
