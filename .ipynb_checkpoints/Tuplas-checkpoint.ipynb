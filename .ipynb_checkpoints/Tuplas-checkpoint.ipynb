{
 "cells": [
  {
   "cell_type": "markdown",
   "id": "bf4bddf8",
   "metadata": {},
   "source": [
    "## Tuplas\n",
    "\n",
    "### Estrutura:\n",
    "\n",
    "tupla = (valor,valor,valor,...)\n",
    "\n",
    "Parece uma lista, mas é imutavel (nao conseguimos adicionar, remover ou alterar o valor)\n",
    "por isso e interessante pra proteger a base de dados por exemplo\n",
    "\n",
    "aceita valores hetereogeneos"
   ]
  },
  {
   "cell_type": "code",
   "execution_count": 21,
   "id": "44bfbeca",
   "metadata": {},
   "outputs": [
    {
     "name": "stdout",
     "output_type": "stream",
     "text": [
      "('Hugo', '01/01/1988', 3500, 0.16, True)\n",
      "O nome do funcionário é Hugo\n",
      "A data de nascimento do funcionário Hugo é: 01/01/1988\n",
      "O Salário do funcionário Hugo, nascido em 01/01/1988 é de: R$ 3,500.00\n",
      "O imposto do funcionário Hugo nascido em 01/01/1988, devido ao seu salario de R$ 3,500.00 é de R$ 560.00 com uma aliquota de 16%\n"
     ]
    }
   ],
   "source": [
    "vendas = (\"Hugo\", \"01/01/1988\", 3500, 0.16, True)\n",
    "print (vendas)\n",
    "\n",
    "nome = vendas[0]\n",
    "data_nascimento = vendas[1]\n",
    "salario = vendas[2]\n",
    "imposto = vendas[3]\n",
    "pj = vendas[4]\n",
    "\n",
    "print(\"O nome do funcionário é {}\".format(nome))\n",
    "print(\"A data de nascimento do funcionário {} é: {}\".format(nome, data_nascimento))\n",
    "print(\"O Salário do funcionário {}, nascido em {} é de: R$ {:,.2f}\".format(nome,data_nascimento,salario))\n",
    "print(\"O imposto do funcionário {} nascido em {}, devido ao seu salario de R$ {:,.2f} é de R$ {:,.2f} com uma aliquota de {:.0%}\".format(nome,data_nascimento,salario,salario*imposto, imposto))\n",
    "\n",
    "# tentando alterar o valor do salario da erro por se tratar de uma tupla\n",
    "# vendas[2] = 4000"
   ]
  },
  {
   "cell_type": "markdown",
   "id": "92120c25",
   "metadata": {},
   "source": [
    "## UNPACKING de tupla"
   ]
  },
  {
   "cell_type": "code",
   "execution_count": 73,
   "id": "21b52cea",
   "metadata": {},
   "outputs": [
    {
     "name": "stdout",
     "output_type": "stream",
     "text": [
      "Hugo\n",
      "01/01/1988\n",
      "3500\n",
      "0.16\n",
      "True\n"
     ]
    }
   ],
   "source": [
    "vendas = (\"Hugo\", \"01/01/1988\", 3500, 0.16, True)\n",
    "\n",
    "nome, data_nascimento, salario, imposto, pj = vendas\n",
    "\n",
    "print(nome)\n",
    "print(data_nascimento)\n",
    "print(salario)\n",
    "print(imposto)\n",
    "print(pj)\n",
    "\n"
   ]
  },
  {
   "cell_type": "markdown",
   "id": "a03d5965",
   "metadata": {},
   "source": [
    "## lista de tuplas"
   ]
  },
  {
   "cell_type": "raw",
   "id": "c874330e",
   "metadata": {},
   "source": [
    "lista = [\n",
    "    tupla1,\n",
    "    tupla2,\n",
    "    tupla3,\n",
    "    tupla4,\n",
    "    ]\n",
    "    \n",
    "=\n",
    "\n",
    "\n",
    "lista = [\n",
    "    (valor1, valor2, valor3),\n",
    "    (valor4, valor5, valor6),\n",
    "    (valor7, valor8, valor9),\n",
    "    (valor10, valor11, valor12),\n",
    "    ]\n",
    "    \n",
    "    "
   ]
  },
  {
   "cell_type": "code",
   "execution_count": 37,
   "id": "333bdf47",
   "metadata": {},
   "outputs": [
    {
     "name": "stdout",
     "output_type": "stream",
     "text": [
      "O faturamento do dia 01/01/2022 foi de R$ 4,360.00\n",
      "O faturamento do dia 02/01/2022 foi de R$ 2,434.00\n",
      "O faturamento total foi de R$ 6,794.00\n"
     ]
    }
   ],
   "source": [
    "vendas = [\n",
    "    (\"01/01/2022\",\"gasp13\", \"portaria\", 14, 120, \"dinheiro\"),\n",
    "    (\"01/01/2022\",\"agua20lt\", \"Andre\", 20, 9, \"cartão\"),\n",
    "    (\"01/01/2022\",\"gasp45\", \"portaria\", 1, 500, \"dinheiro\"),\n",
    "    (\"01/01/2022\",\"gasp13\", \"Andre\", 16, 125, \"cartão\"),\n",
    "    (\"02/01/2022\",\"gasp13\", \"portaria\", 18, 120, \"dinheiro\"),\n",
    "    (\"02/01/2022\",\"agua20lt\", \"portaria\", 25, 5, \"dinheiro\"),\n",
    "    (\"02/01/2022\",\"agua20lt\", \"Andre\", 13, 8, \"dinheiro\"),\n",
    "    (\"02/01/2022\",\"agua20lt\", \"Andre\", 5, 9, \"cartão\"),\n",
    "]\n",
    "# descubra o faturamento por dia \n",
    "\n",
    "faturamento_1 = vendas[0][3] * vendas[0][4] + vendas[1][3] * vendas[1][4] + vendas[2][3] * vendas[2][4] + vendas[3][3] * vendas[3][4]\n",
    "faturamento_2 = vendas[4][3] * vendas[4][4] + vendas[5][3] * vendas[5][4] + vendas[6][3] * vendas[6][4] + vendas[7][3] * vendas[7][4]\n",
    "faturamento_tot = faturamento_1 + faturamento_2\n",
    "\n",
    "print(\"O faturamento do dia {} foi de R$ {:,.2f}\".format(vendas[0][0],faturamento_1))\n",
    "print(\"O faturamento do dia {} foi de R$ {:,.2f}\".format(vendas[4][0],faturamento_2))\n",
    "print(\"O faturamento total foi de R$ {:,.2f}\".format(faturamento_tot))"
   ]
  },
  {
   "cell_type": "code",
   "execution_count": 43,
   "id": "6510ad11",
   "metadata": {},
   "outputs": [
    {
     "name": "stdout",
     "output_type": "stream",
     "text": [
      "O faturamento no dia 01/01/2022 foi de R$ 4,360.00\n",
      "O faturamento no dia 02/01/2022 foi de R$ 2,434.00\n",
      "O faturamento total foi de R$ 6,794.00\n"
     ]
    }
   ],
   "source": [
    "vendas = [\n",
    "    (\"01/01/2022\",\"gasp13\", \"portaria\", 14, 120, \"dinheiro\"),\n",
    "    (\"01/01/2022\",\"agua20lt\", \"Andre\", 20, 9, \"cartão\"),\n",
    "    (\"01/01/2022\",\"gasp45\", \"portaria\", 1, 500, \"dinheiro\"),\n",
    "    (\"01/01/2022\",\"gasp13\", \"Andre\", 16, 125, \"cartão\"),\n",
    "    (\"02/01/2022\",\"gasp13\", \"portaria\", 18, 120, \"dinheiro\"),\n",
    "    (\"02/01/2022\",\"agua20lt\", \"portaria\", 25, 5, \"dinheiro\"),\n",
    "    (\"02/01/2022\",\"agua20lt\", \"Andre\", 13, 8, \"dinheiro\"),\n",
    "    (\"02/01/2022\",\"agua20lt\", \"Andre\", 5, 9, \"cartão\"),\n",
    "]\n",
    "# descubra o faturamento por dia \n",
    "vendas_01 = 0\n",
    "vendas_02 = 0\n",
    "\n",
    "for venda in vendas:\n",
    "    data, produto, responsavel, qtd, valor, formapg = venda\n",
    "    if data == \"01/01/2022\":\n",
    "        vendas_01 += qtd * valor\n",
    "    else:\n",
    "        vendas_02 += qtd * valor\n",
    "        \n",
    "print(\"O faturamento no dia {} foi de R$ {:,.2f}\".format(vendas[0][0], vendas_01))\n",
    "print(\"O faturamento no dia {} foi de R$ {:,.2f}\".format(vendas[4][0], vendas_02))\n",
    "print(\"O faturamento total foi de R$ {:,.2f}\".format(vendas_01 + vendas_02))"
   ]
  },
  {
   "cell_type": "code",
   "execution_count": 48,
   "id": "6170d608",
   "metadata": {},
   "outputs": [
    {
     "name": "stdout",
     "output_type": "stream",
     "text": [
      "O produto mais vendido foi agua20lt, vendeu 25 unidades com o valor unitario de 5 gerendo R$ 125 em faturamento\n"
     ]
    }
   ],
   "source": [
    "vendas = [\n",
    "    (\"01/01/2022\",\"gasp13\", \"portaria\", 14, 120, \"dinheiro\"),\n",
    "    (\"01/01/2022\",\"agua20lt\", \"Andre\", 20, 9, \"cartão\"),\n",
    "    (\"01/01/2022\",\"gasp45\", \"portaria\", 1, 500, \"dinheiro\"),\n",
    "    (\"01/01/2022\",\"gasp13\", \"Andre\", 16, 125, \"cartão\"),\n",
    "    (\"02/01/2022\",\"gasp13\", \"portaria\", 18, 120, \"dinheiro\"),\n",
    "    (\"02/01/2022\",\"agua20lt\", \"portaria\", 25, 5, \"dinheiro\"),\n",
    "    (\"02/01/2022\",\"agua20lt\", \"Andre\", 13, 8, \"dinheiro\"),\n",
    "    (\"02/01/2022\",\"agua20lt\", \"Andre\", 5, 9, \"cartão\"),\n",
    "]\n",
    "# descubra o item mais vendido em unidades, e retorne quanto foi vendido e qual faturamento gerou.\n",
    "produto_mais_vendido = \"\"\n",
    "qtd_mais_vendido = 0\n",
    "valor_produto_mais_vendido = 0\n",
    "\n",
    "for venda in vendas:\n",
    "    data, produto, responsavel, qtd, valor, formapg = venda\n",
    "    if qtd > qtd_mais_vendido:\n",
    "        produto_mais_vendido = produto\n",
    "        qtd_mais_vendido = qtd\n",
    "        valor_produto_mais_vendido = valor\n",
    "    else:\n",
    "        pass\n",
    "    \n",
    "    \n",
    "print(\"O produto mais vendido foi {}, vendeu {} unidades com o valor unitario de {} gerendo R$ {} em faturamento\"\n",
    "      .format(produto_mais_vendido, qtd_mais_vendido, valor_produto_mais_vendido,qtd_mais_vendido * valor_produto_mais_vendido))"
   ]
  },
  {
   "cell_type": "code",
   "execution_count": 71,
   "id": "ea19742c",
   "metadata": {},
   "outputs": [
    {
     "name": "stdout",
     "output_type": "stream",
     "text": [
      "O item que teve maior impacto no faturamento foi gasp13, foi vendido no dia 02/01/2022, vendendo 18 unidades,cada uma a R$ 120.00, gerando R$ 2,160.00 de faturamento.\n",
      "Essa venda representa 31.79% do faturamento Geral\n"
     ]
    }
   ],
   "source": [
    "vendas = [\n",
    "    (\"01/01/2022\",\"gasp13\", \"portaria\", 14, 120, \"dinheiro\"),\n",
    "    (\"01/01/2022\",\"agua20lt\", \"Andre\", 20, 9, \"cartão\"),\n",
    "    (\"01/01/2022\",\"gasp45\", \"portaria\", 1, 500, \"dinheiro\"),\n",
    "    (\"01/01/2022\",\"gasp13\", \"Andre\", 16, 125, \"cartão\"),\n",
    "    (\"02/01/2022\",\"gasp13\", \"portaria\", 18, 120, \"dinheiro\"),\n",
    "    (\"02/01/2022\",\"agua20lt\", \"portaria\", 25, 5, \"dinheiro\"),\n",
    "    (\"02/01/2022\",\"agua20lt\", \"Andre\", 13, 8, \"dinheiro\"),\n",
    "    (\"02/01/2022\",\"agua20lt\", \"Andre\", 5, 9, \"cartão\"),\n",
    "]\n",
    "# descubra o item que teve maior impacto no faturamento e traga as informações complementares junto\n",
    "\n",
    "datax = \"\"\n",
    "produtox = \"\"\n",
    "qtdx = 0\n",
    "valorx = 0\n",
    "faturamentox = 0\n",
    "faturamento_tot = 0\n",
    "\n",
    "for venda in vendas:\n",
    "    data_venda, produto, responsavel, qtd, valor, forma_pg = venda\n",
    "    faturamento = qtd * valor\n",
    "    faturamento_tot += faturamento \n",
    "    \n",
    "    if faturamento > faturamentox:\n",
    "        datax = data_venda\n",
    "        produtox = produto\n",
    "        qtdx = qtd\n",
    "        valorx = valor\n",
    "        faturamentox = qtd * valor\n",
    "    else:\n",
    "        pass\n",
    "\n",
    "print(\"O item que teve maior impacto no faturamento foi {}, foi vendido no dia {}, vendendo {} unidades,cada uma a R$ {:.2f}, gerando R$ {:,.2f} de faturamento.\".format(produtox, datax, qtdx, valorx, faturamentox))\n",
    "\n",
    "print(\"Essa venda representa {:.2%} do faturamento Geral\".format(faturamentox / faturamento_tot))\n",
    "\n",
    "  \n"
   ]
  },
  {
   "cell_type": "code",
   "execution_count": null,
   "id": "1e725fc6",
   "metadata": {},
   "outputs": [],
   "source": []
  }
 ],
 "metadata": {
  "kernelspec": {
   "display_name": "Python 3 (ipykernel)",
   "language": "python",
   "name": "python3"
  },
  "language_info": {
   "codemirror_mode": {
    "name": "ipython",
    "version": 3
   },
   "file_extension": ".py",
   "mimetype": "text/x-python",
   "name": "python",
   "nbconvert_exporter": "python",
   "pygments_lexer": "ipython3",
   "version": "3.9.12"
  }
 },
 "nbformat": 4,
 "nbformat_minor": 5
}
