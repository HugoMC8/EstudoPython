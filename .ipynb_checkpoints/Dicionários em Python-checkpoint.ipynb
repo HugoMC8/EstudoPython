{
 "cells": [
  {
   "cell_type": "markdown",
   "id": "60e692e5",
   "metadata": {},
   "source": [
    "## Dicinários em Python"
   ]
  },
  {
   "cell_type": "markdown",
   "id": "3535f819",
   "metadata": {},
   "source": [
    "Estrutura\n",
    "\n",
    "dicionario = {chave1 : valor1, chave2 : valor2, chave3 : valor3, chave4 : valor4...}\n",
    "\n",
    "Nao deve ser usado para pegar item em uma determinada ordem\n",
    "pode ter valores heterogeneos\n",
    "as chaves sao UNICAS obrigatoriamente\n",
    "\n"
   ]
  },
  {
   "cell_type": "code",
   "execution_count": null,
   "id": "c16d4aaa",
   "metadata": {},
   "outputs": [],
   "source": [
    "mais_vendido = {\"Residencial\": \"Gás p13\", \"Comercial\": \"Gás p45\",\"Galão Água 20 Lts\": \"2024\"}\n",
    "\n",
    "vendas_agua = {\"2022\" : 300, \"2023\" : 400, \"2024\" : 550,\"2025\" : 350}\n",
    "\n",
    "# qual foi o item mais vendido na categoria \"Residencial\"?\n",
    "# quanto foi vendido na categoria agua \"2024\"?\n",
    "\n",
    "\n",
    "item_residencial = mais_vendido[\"Residencial\"]# nao e recomendado que se use o index pra acessar uma informação do dicionario.\n",
    "print(\"O item mais vendido na categoria residencial foi {}\".format(item_residencial))\n",
    "\n",
    "# nao e recomendado que se use o index pra acessar uma informação do dicionario.\n",
    "\n",
    "vendas_2024 = vendas_agua[\"2024\"]\n",
    "print(\"As vendas de agua de 2024 foram de : {} unidades\".format(vendas_2024))\n"
   ]
  },
  {
   "cell_type": "code",
   "execution_count": null,
   "id": "6087f092",
   "metadata": {},
   "outputs": [],
   "source": [
    "mais_vendido = {\"Residencial\": \"Gás p13\", \"Comercial\": \"Gás p45\",\"Galão Água 20 Lts\": \"2024\"}\n",
    "#Para acessar a informação no dicionário podemos utilizar 2 metodos:\n",
    "#    -dicionario[chave]\n",
    "#    -.get(chave)\n",
    "print(\"O item mais vendido na categoria Residencial foi {}\".format(mais_vendido[\"Residencial\"]))\n",
    "print(\"O item mais vendido na categoria Comercial foi {}\".format(mais_vendido.get(\"Comercial\")))\n",
    "\n",
    "# se o valor pesquisado como chave em um dicionário estiver errado.\n",
    "print(\"O item mais vendido na categoria Comercial foi {}\".format(mais_vendido.get(\"Comerciaal\")))\n",
    "#com o metodo get nao teremos erro no codigo, teremos o retorno \"None\"\n",
    "\n",
    "# print(\"O item mais vendido na categoria Residencial foi {}\".format(mais_vendido[\"Residenciaal\"]))\n",
    "# com o metodo dicionario[chave] teremos erro no codigo caso nao encontre a chave no dicionario \n",
    "\n"
   ]
  },
  {
   "cell_type": "code",
   "execution_count": null,
   "id": "a948540a",
   "metadata": {},
   "outputs": [],
   "source": [
    "mais_vendido = {\"Residencial\": \"Gás p13\", \"Comercial\": \"Gás p45\",\"Galão Água 20 Lts\": \"2024\"}\n",
    "pesquisa = input(\"Digite a categoria que deseja buscar\")\n",
    "# podemos entao tratar os casos que a chave procurada nao foi encontrada no dicionario\n",
    "if mais_vendido.get(pesquisa) == None:\n",
    "    print(\"Busca não encontrada nos mais vendidos\")\n",
    "else:\n",
    "    print(\"O item mais vendido na categoria Residencial foi {}\".format(mais_vendido.get(pesquisa)))\n"
   ]
  },
  {
   "cell_type": "markdown",
   "id": "337f14b9",
   "metadata": {},
   "source": [
    "## Adicionar, Remover e modificar itens no dicionário."
   ]
  },
  {
   "cell_type": "raw",
   "id": "c30807b5",
   "metadata": {},
   "source": [
    "Adicionar itens\n",
    "\n",
    "dicionario = {}\n",
    "\n",
    "dicionario[chave1] = valor1 # mais pratico mas tem a limitação de adicionar valor por valor. (ou fazer um loop )\n",
    "\n",
    "ou entao:\n",
    "\n",
    "dicionario.update({chave1: valor1, chave2: valor2}) # util pra adicionar varios itens de uma unica vez\n",
    "\n"
   ]
  },
  {
   "cell_type": "code",
   "execution_count": null,
   "id": "d0f55b99",
   "metadata": {},
   "outputs": [],
   "source": [
    "vendas_1tri = {\"Janeiro\": 80000, \"Fevereiro\": 90000, \"Março\": 100000}\n",
    "vendas_2tri = {\"Abril\": 90000, \"Maio\": 80000, \"Junho\": 90000}\n",
    "vendas_3tri = {\"Julho\": 100000, \"Agosto\": 110000, \"Setembro\": 100000}\n",
    "vendas_4tri = {\"Outubro\": 90000, \"Novembro\": 100000, \"Dezembro\": 110000}\n",
    "\n",
    "vendas_1sem = {}\n",
    "#a função update atualiza o dicionario, entao se quiser manter o registro do original crie um novo dicionario\n",
    "vendas_1sem.update(vendas_1tri) \n",
    "vendas_1sem.update(vendas_2tri)\n",
    "print(vendas_1sem)\n",
    "\n",
    "vendas_2sem = {}\n",
    "#a função update atualiza o dicionario, entao se quiser manter o registro do original crie um novo dicionario\n",
    "vendas_2sem.update(vendas_3tri) \n",
    "vendas_2sem.update(vendas_4tri)\n",
    "print(vendas_2sem)\n",
    "\n",
    "vendas_ano = {}\n",
    "vendas_ano.update(vendas_1sem) \n",
    "vendas_ano.update(vendas_2sem)\n",
    "print(vendas_ano)"
   ]
  },
  {
   "cell_type": "code",
   "execution_count": null,
   "id": "62de2a40",
   "metadata": {},
   "outputs": [],
   "source": [
    "vendas_1tri = {\"Janeiro\": 80000, \"Fevereiro\": 90000, \"Março\": 100000}\n",
    "# alterar um valor basta adicionar um valor com uma chave já existente que ele ira alterar o valor associado a chave.\n",
    "\n",
    "vendas_1tri[\"Janeiro\"] = 85000\n",
    "print(vendas_1tri)\n",
    "vendas_1tri.update({\"Janeiro\": 80000})\n",
    "print(vendas_1tri)\n",
    "\n",
    "# cuidado no hora de alterar um valor pois se escrever a chave errada ele ira criar uma nova chave no dicionario\n",
    "vendas_1tri[\"Ja  neiro\"] = 85000\n",
    "print(vendas_1tri)\n"
   ]
  },
  {
   "cell_type": "raw",
   "id": "3313719c",
   "metadata": {},
   "source": [
    "# remover um valor podemos fazer como nas listas\n",
    "\n",
    "del dicionario[chave]\n",
    "\n",
    " ou entao podemos armazenar em uma variavel o valor removido.\n",
    " \n",
    "valor_deletado = dicionario.pop(chave)\n",
    "\n",
    "\n"
   ]
  },
  {
   "cell_type": "code",
   "execution_count": null,
   "id": "50a4ce85",
   "metadata": {},
   "outputs": [],
   "source": [
    "vendas_1tri = {\"Janeiro\": 80000, \"Fevereiro\": 90000, \"Março\": 100000}\n",
    "print(vendas_1tri)\n",
    "del vendas_1tri[\"Janeiro\"]\n",
    "print (vendas_1tri)\n",
    "\n",
    "vendas_1tri = {\"Janeiro\": 80000, \"Fevereiro\": 90000, \"Março\": 100000}\n",
    "print(vendas_1tri)\n",
    "valor_excluido = vendas_1tri.pop(\"Janeiro\")\n",
    "print(vendas_1tri)\n",
    "print(\"O valor excluido foi: {}\".format(valor_excluido))"
   ]
  },
  {
   "cell_type": "raw",
   "id": "82236511",
   "metadata": {},
   "source": [
    "Cuidado com:\n",
    "\n",
    "del dicionario\n",
    "\n",
    "que ira excluir o dicionario inteiro\n",
    "\n",
    "caso queira limpar o dicionario sem excluir o dicionario utilizar:\n",
    "\n",
    "dicionario.clear()\n"
   ]
  },
  {
   "cell_type": "code",
   "execution_count": null,
   "id": "a9b8d349",
   "metadata": {},
   "outputs": [],
   "source": [
    "vendas_1tri = {\"Janeiro\": 80000, \"Fevereiro\": 90000, \"Março\": 100000}\n",
    "del vendas_1tri[\"Janeiro\"]\n",
    "print (vendas_1tri)\n",
    "#del vendas_1tri # nao passei nenhuma chave\n",
    "#print (vendas_1tri)"
   ]
  },
  {
   "cell_type": "code",
   "execution_count": null,
   "id": "dbc26f0e",
   "metadata": {},
   "outputs": [],
   "source": [
    "vendas_1tri = {\"Janeiro\": 80000, \"Fevereiro\": 90000, \"Março\": 100000}\n",
    "del vendas_1tri[\"Janeiro\"]\n",
    "print (vendas_1tri)\n",
    "vendas_1tri.clear()\n",
    "print (vendas_1tri)"
   ]
  },
  {
   "cell_type": "markdown",
   "id": "c3dea332",
   "metadata": {},
   "source": [
    "## for em dicionario"
   ]
  },
  {
   "cell_type": "code",
   "execution_count": 1,
   "id": "b8373116",
   "metadata": {},
   "outputs": [
    {
     "name": "stdout",
     "output_type": "stream",
     "text": [
      "A chave Residencial contem o valor Gás p13\n",
      "A chave Comercial contem o valor Gás p45\n",
      "A chave Galão Água 20 Lts contem o valor 2024\n"
     ]
    }
   ],
   "source": [
    "mais_vendido = {\"Residencial\": \"Gás p13\", \"Comercial\": \"Gás p45\",\"Galão Água 20 Lts\": \"2024\"}\n",
    "\n",
    "for chave in mais_vendido:\n",
    "    print(\"A chave {} contem o valor {}\".format(chave,mais_vendido[chave]))"
   ]
  },
  {
   "cell_type": "code",
   "execution_count": null,
   "id": "da1c2247",
   "metadata": {},
   "outputs": [],
   "source": [
    "vendas_agua = {\"2022\" : 300, \"2023\" : 400, \"2024\" : 550,\"2025\" : 350}\n",
    "vendas_tot = 0\n",
    "for chave in vendas_agua:\n",
    "    vendas_tot += vendas_agua[chave]\n",
    "print(vendas_tot)"
   ]
  },
  {
   "cell_type": "code",
   "execution_count": null,
   "id": "60a0deb5",
   "metadata": {},
   "outputs": [],
   "source": [
    "vendas_agua = {\"2022\" : 300, \"2023\" : 400, \"2024\" : 550,\"2025\" : 350}\n",
    "itens_dicionario = vendas_agua.items()\n",
    "print(itens_dicionario) # transformou os itens (chave: valor) em uma tupla pra cada item do dicionario\n",
    "\n",
    "for item in vendas_agua.items():\n",
    "    print(item)\n",
    "    \n",
    "# ou já fazendo o unpak\n",
    "\n",
    "for ano, qtd in vendas_agua.items():\n",
    "    print(\"Do ano {} foram vendidas {} unidades\".format(ano, qtd))"
   ]
  },
  {
   "cell_type": "code",
   "execution_count": null,
   "id": "703c7ca5",
   "metadata": {},
   "outputs": [],
   "source": [
    "vendas_agua = {\"2022\" : 300, \"2023\" : 400, \"2024\" : 550,\"2025\" : 350}\n",
    "#podemos tambem criar listas com as chaves ou uma lista com os valores do dicionario\n",
    "chaves = vendas_agua.keys()\n",
    "valores = vendas_agua.values()\n",
    "print(chaves)\n",
    "print(valores)\n",
    "\n",
    "#podemos tambem alterar o dicionario alterando altomaticamente as chaves e valores\n",
    "# dict_keys e dict_values mantem o vinculo das listas com o dicionario.\n",
    "\n",
    "vendas_agua[\"2026\"] = 400\n",
    "\n",
    "print(chaves)\n",
    "print(valores)\n",
    "# automaticamente atualizou as listas de chaves e valores\n",
    "# dict_keys e dict_values não sao listas comuns que aceitam maanipulação como .sort()\n",
    "# caso precise manipular as listas é necessario transformalas em listas normais\n",
    "\n",
    "lista_chaves = list(chaves)\n",
    "lista_valores = list(valores)\n",
    "print(lista_chaves)\n",
    "print(lista_valores)\n"
   ]
  },
  {
   "cell_type": "markdown",
   "id": "18da65d6",
   "metadata": {},
   "source": [
    "## transformando listas em dicionarios e function zip"
   ]
  },
  {
   "cell_type": "raw",
   "id": "fa433b3f",
   "metadata": {},
   "source": [
    "# dicionario com valores padrão\n",
    "\n",
    "dicionario = dict.fromkeys(lista_chaves, valor_padrão)\n",
    "\n",
    "\n",
    "#dicionario apartir de uma lista de tuplas\n",
    "\n",
    "dicionario = dict(lista_tuplas)\n",
    "\n",
    "#dicionario apartir de 2 listas\n",
    "\n",
    "    #transformar listas em lista de tuplas com zip\n",
    "    #dicionario apartir de uma lista de tuplas\n",
    "    \n",
    "lista_tuplas = zip(lista1,lista2)\n",
    "dicionario = dict(lista_tuplas)"
   ]
  },
  {
   "cell_type": "code",
   "execution_count": null,
   "id": "7b73d304",
   "metadata": {},
   "outputs": [],
   "source": [
    "ano = ['2022', '2023', '2024', '2025', '2026']\n",
    "\n",
    "vendas_agua = dict.fromkeys(ano,0)\n",
    "print(vendas_agua)\n",
    "\n",
    "ano = ['2022', '2023', '2024', '2025', '2026']\n",
    "qtd = [300, 400, 550, 350, 400]\n",
    "lista_tupla = zip(ano,qtd)\n",
    "vendas_agua = dict(lista_tupla)\n",
    "print(vendas_agua)\n",
    "\n",
    "\n",
    "lista_tupla = zip(ano,qtd)\n",
    "print(lista_tupla)#nao e possivel dar print da forma normal\n",
    "for item in lista_tupla:\n",
    "    print(item)# assim conseguimos ver que o metodo zip criou uma lista de tuplas\n",
    "    \n",
    "\n",
    "\n"
   ]
  },
  {
   "cell_type": "code",
   "execution_count": null,
   "id": "23ff460d",
   "metadata": {},
   "outputs": [],
   "source": []
  }
 ],
 "metadata": {
  "kernelspec": {
   "display_name": "Python 3 (ipykernel)",
   "language": "python",
   "name": "python3"
  },
  "language_info": {
   "codemirror_mode": {
    "name": "ipython",
    "version": 3
   },
   "file_extension": ".py",
   "mimetype": "text/x-python",
   "name": "python",
   "nbconvert_exporter": "python",
   "pygments_lexer": "ipython3",
   "version": "3.9.12"
  }
 },
 "nbformat": 4,
 "nbformat_minor": 5
}
