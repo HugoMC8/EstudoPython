{
 "cells": [
  {
   "cell_type": "markdown",
   "id": "20c9525e",
   "metadata": {},
   "source": [
    "## repetição com FOR"
   ]
  },
  {
   "cell_type": "raw",
   "id": "1c8d39bb",
   "metadata": {},
   "source": [
    "for i in range(n):\n",
    "    repetir codigo n vezes"
   ]
  },
  {
   "cell_type": "code",
   "execution_count": 1,
   "id": "fb054dc8",
   "metadata": {},
   "outputs": [
    {
     "name": "stdout",
     "output_type": "stream",
     "text": [
      "Hugo\n",
      "Hugo\n",
      "Hugo\n",
      "Hugo\n",
      "Hugo\n"
     ]
    }
   ],
   "source": [
    "for i in range(5): #a cada repeticao ele soma 1 ao valir de i ate chegar em 5\n",
    "    print(\"Hugo\") # em cada repeticao ele executa as tarefas que estiverem indentadas a ele"
   ]
  },
  {
   "cell_type": "code",
   "execution_count": 2,
   "id": "0e0e71aa",
   "metadata": {},
   "outputs": [
    {
     "name": "stdout",
     "output_type": "stream",
     "text": [
      "0\n",
      "1\n",
      "2\n",
      "3\n",
      "4\n"
     ]
    }
   ],
   "source": [
    "for i in range(5):\n",
    "    print(i)"
   ]
  },
  {
   "cell_type": "code",
   "execution_count": 21,
   "id": "51bd3963",
   "metadata": {},
   "outputs": [
    {
     "name": "stdout",
     "output_type": "stream",
     "text": [
      "30 unidades vendidas de gasp13.\n",
      "1 unidades vendidas de gasp45.\n",
      "8 unidades vendidas de agua22.\n",
      "10 unidades vendidas de agua23.\n",
      "12 unidades vendidas de agua24.\n"
     ]
    }
   ],
   "source": [
    "produtos = [\"gasp13\",\"gasp45\",\"agua22\",\"agua23\", \"agua24\",\"agua25\"]\n",
    "vendas = [30,1,8,10,12,6]\n",
    "\n",
    "for i in range(5):\n",
    "    print(\"{} unidades vendidas de {}.\".format(vendas[i],produtos[i]))"
   ]
  },
  {
   "cell_type": "code",
   "execution_count": 18,
   "id": "a3899a89",
   "metadata": {},
   "outputs": [
    {
     "name": "stdout",
     "output_type": "stream",
     "text": [
      "30 unidades vendidas de gasp13, gerando uma venda de 3600 reais.\n",
      "1 unidades vendidas de gasp45, gerando uma venda de 500 reais.\n",
      "8 unidades vendidas de agua22, gerando uma venda de 40 reais.\n",
      "10 unidades vendidas de agua23, gerando uma venda de 50 reais.\n",
      "12 unidades vendidas de agua24, gerando uma venda de 60 reais.\n",
      "4,250.00 foi o faturamento total do dia!\n"
     ]
    }
   ],
   "source": [
    "produtos = [\"gasp13\",\"gasp45\",\"agua22\",\"agua23\", \"agua24\",\"agua25\"]\n",
    "vendas = [30,1,8,10,12,6]\n",
    "valor = [120,500,5,5,5,5]\n",
    "vendas_tot = 0\n",
    "\n",
    "for i in range(5):\n",
    "    vendas_tot = vendas_tot + (valor[i]*vendas[i])\n",
    "    print(\"{} unidades vendidas de {}, gerando uma venda de {} reais.\".format(vendas[i],produtos[i],(vendas[i]*valor[i])))\n",
    "print(\"{:,.2f} foi o faturamento total do dia!\".format(vendas_tot))"
   ]
  },
  {
   "cell_type": "code",
   "execution_count": null,
   "id": "e1da9d36",
   "metadata": {},
   "outputs": [],
   "source": []
  }
 ],
 "metadata": {
  "kernelspec": {
   "display_name": "Python 3 (ipykernel)",
   "language": "python",
   "name": "python3"
  },
  "language_info": {
   "codemirror_mode": {
    "name": "ipython",
    "version": 3
   },
   "file_extension": ".py",
   "mimetype": "text/x-python",
   "name": "python",
   "nbconvert_exporter": "python",
   "pygments_lexer": "ipython3",
   "version": "3.9.12"
  }
 },
 "nbformat": 4,
 "nbformat_minor": 5
}
